{
 "cells": [
  {
   "cell_type": "code",
   "execution_count": 30,
   "metadata": {},
   "outputs": [
    {
     "data": {
      "text/html": [
       "<div>\n",
       "<style scoped>\n",
       "    .dataframe tbody tr th:only-of-type {\n",
       "        vertical-align: middle;\n",
       "    }\n",
       "\n",
       "    .dataframe tbody tr th {\n",
       "        vertical-align: top;\n",
       "    }\n",
       "\n",
       "    .dataframe thead th {\n",
       "        text-align: right;\n",
       "    }\n",
       "</style>\n",
       "<table border=\"1\" class=\"dataframe\">\n",
       "  <thead>\n",
       "    <tr style=\"text-align: right;\">\n",
       "      <th></th>\n",
       "      <th>sex</th>\n",
       "      <th>age</th>\n",
       "      <th>grade</th>\n",
       "      <th>absence</th>\n",
       "      <th>bloodtype</th>\n",
       "      <th>height</th>\n",
       "      <th>weight</th>\n",
       "    </tr>\n",
       "  </thead>\n",
       "  <tbody>\n",
       "    <tr>\n",
       "      <td>0</td>\n",
       "      <td>male</td>\n",
       "      <td>20</td>\n",
       "      <td>2</td>\n",
       "      <td>N</td>\n",
       "      <td>O</td>\n",
       "      <td>157.1</td>\n",
       "      <td>52.3</td>\n",
       "    </tr>\n",
       "    <tr>\n",
       "      <td>1</td>\n",
       "      <td>female</td>\n",
       "      <td>24</td>\n",
       "      <td>2</td>\n",
       "      <td>Y</td>\n",
       "      <td>O</td>\n",
       "      <td>160.8</td>\n",
       "      <td>53.6</td>\n",
       "    </tr>\n",
       "    <tr>\n",
       "      <td>2</td>\n",
       "      <td>male</td>\n",
       "      <td>28</td>\n",
       "      <td>2</td>\n",
       "      <td>N</td>\n",
       "      <td>O</td>\n",
       "      <td>160.5</td>\n",
       "      <td>53.4</td>\n",
       "    </tr>\n",
       "    <tr>\n",
       "      <td>3</td>\n",
       "      <td>male</td>\n",
       "      <td>22</td>\n",
       "      <td>2</td>\n",
       "      <td>N</td>\n",
       "      <td>AB</td>\n",
       "      <td>159.0</td>\n",
       "      <td>52.2</td>\n",
       "    </tr>\n",
       "    <tr>\n",
       "      <td>4</td>\n",
       "      <td>female</td>\n",
       "      <td>23</td>\n",
       "      <td>2</td>\n",
       "      <td>N</td>\n",
       "      <td>O</td>\n",
       "      <td>160.9</td>\n",
       "      <td>53.1</td>\n",
       "    </tr>\n",
       "  </tbody>\n",
       "</table>\n",
       "</div>"
      ],
      "text/plain": [
       "      sex  age  grade absence bloodtype  height  weight\n",
       "0    male   20      2       N         O   157.1    52.3\n",
       "1  female   24      2       Y         O   160.8    53.6\n",
       "2    male   28      2       N         O   160.5    53.4\n",
       "3    male   22      2       N        AB   159.0    52.2\n",
       "4  female   23      2       N         O   160.9    53.1"
      ]
     },
     "execution_count": 30,
     "metadata": {},
     "output_type": "execute_result"
    }
   ],
   "source": [
    "import numpy as np\n",
    "import pandas as pd\n",
    "import sys\n",
    "\n",
    "## Initialize Data\n",
    "student = pd.read_csv(\"./Data/student.csv\")\n",
    "student.head()"
   ]
  },
  {
   "cell_type": "code",
   "execution_count": 15,
   "metadata": {},
   "outputs": [],
   "source": [
    "## Initialize Function\n",
    "def calculateBMI(a, b):\n",
    "        return (a/b)"
   ]
  },
  {
   "cell_type": "markdown",
   "metadata": {},
   "source": [
    "student.describe()"
   ]
  },
  {
   "cell_type": "code",
   "execution_count": 3,
   "metadata": {},
   "outputs": [],
   "source": [
    "## Calculate Bmi && Make 'BMI' Column\n",
    "\n",
    "student['bmi'] = student['weight'] / ((student['height']/100)*(student['height']/100))"
   ]
  },
  {
   "cell_type": "markdown",
   "metadata": {},
   "source": [
    "student['bmi'].head()"
   ]
  },
  {
   "cell_type": "code",
   "execution_count": 33,
   "metadata": {},
   "outputs": [
    {
     "data": {
      "text/plain": [
       "0    False\n",
       "1     True\n",
       "2    False\n",
       "3    False\n",
       "4     True\n",
       "Name: sex, dtype: bool"
      ]
     },
     "execution_count": 33,
     "metadata": {},
     "output_type": "execute_result"
    }
   ],
   "source": [
    "# Divide male, female Column\n",
    "\n",
    "filter_male = student['sex'] == 'male'\n",
    "filter_male.head()\n",
    "\n",
    "filter_female = student['sex'] == 'female'\n",
    "filter_female.head()"
   ]
  },
  {
   "cell_type": "code",
   "execution_count": 13,
   "metadata": {},
   "outputs": [],
   "source": [
    "student_male = student[filter_male]\n",
    "student_male_bmi = student_male['bmi']\n",
    "\n",
    "student_female = student[filter_female]\n",
    "student_female_bmi = student_female['bmi']"
   ]
  },
  {
   "cell_type": "code",
   "execution_count": 11,
   "metadata": {},
   "outputs": [
    {
     "data": {
      "text/html": [
       "<div>\n",
       "<style scoped>\n",
       "    .dataframe tbody tr th:only-of-type {\n",
       "        vertical-align: middle;\n",
       "    }\n",
       "\n",
       "    .dataframe tbody tr th {\n",
       "        vertical-align: top;\n",
       "    }\n",
       "\n",
       "    .dataframe thead th {\n",
       "        text-align: right;\n",
       "    }\n",
       "</style>\n",
       "<table border=\"1\" class=\"dataframe\">\n",
       "  <thead>\n",
       "    <tr style=\"text-align: right;\">\n",
       "      <th></th>\n",
       "      <th>sex</th>\n",
       "      <th>age</th>\n",
       "      <th>grade</th>\n",
       "      <th>absence</th>\n",
       "      <th>bloodtype</th>\n",
       "      <th>height</th>\n",
       "      <th>weight</th>\n",
       "      <th>bmi</th>\n",
       "    </tr>\n",
       "  </thead>\n",
       "  <tbody>\n",
       "    <tr>\n",
       "      <td>0</td>\n",
       "      <td>male</td>\n",
       "      <td>20</td>\n",
       "      <td>2</td>\n",
       "      <td>N</td>\n",
       "      <td>O</td>\n",
       "      <td>157.1</td>\n",
       "      <td>52.3</td>\n",
       "      <td>9.18147</td>\n",
       "    </tr>\n",
       "    <tr>\n",
       "      <td>2</td>\n",
       "      <td>male</td>\n",
       "      <td>28</td>\n",
       "      <td>2</td>\n",
       "      <td>N</td>\n",
       "      <td>O</td>\n",
       "      <td>160.5</td>\n",
       "      <td>53.4</td>\n",
       "      <td>9.18147</td>\n",
       "    </tr>\n",
       "    <tr>\n",
       "      <td>3</td>\n",
       "      <td>male</td>\n",
       "      <td>22</td>\n",
       "      <td>2</td>\n",
       "      <td>N</td>\n",
       "      <td>AB</td>\n",
       "      <td>159.0</td>\n",
       "      <td>52.2</td>\n",
       "      <td>9.18147</td>\n",
       "    </tr>\n",
       "    <tr>\n",
       "      <td>5</td>\n",
       "      <td>male</td>\n",
       "      <td>25</td>\n",
       "      <td>2</td>\n",
       "      <td>Y</td>\n",
       "      <td>A</td>\n",
       "      <td>161.5</td>\n",
       "      <td>50.1</td>\n",
       "      <td>9.18147</td>\n",
       "    </tr>\n",
       "    <tr>\n",
       "      <td>6</td>\n",
       "      <td>male</td>\n",
       "      <td>25</td>\n",
       "      <td>2</td>\n",
       "      <td>N</td>\n",
       "      <td>O</td>\n",
       "      <td>155.4</td>\n",
       "      <td>49.9</td>\n",
       "      <td>9.18147</td>\n",
       "    </tr>\n",
       "  </tbody>\n",
       "</table>\n",
       "</div>"
      ],
      "text/plain": [
       "    sex  age  grade absence bloodtype  height  weight      bmi\n",
       "0  male   20      2       N         O   157.1    52.3  9.18147\n",
       "2  male   28      2       N         O   160.5    53.4  9.18147\n",
       "3  male   22      2       N        AB   159.0    52.2  9.18147\n",
       "5  male   25      2       Y         A   161.5    50.1  9.18147\n",
       "6  male   25      2       N         O   155.4    49.9  9.18147"
      ]
     },
     "execution_count": 11,
     "metadata": {},
     "output_type": "execute_result"
    }
   ],
   "source": [
    "student_male.head()"
   ]
  },
  {
   "cell_type": "code",
   "execution_count": 12,
   "metadata": {},
   "outputs": [
    {
     "data": {
      "text/html": [
       "<div>\n",
       "<style scoped>\n",
       "    .dataframe tbody tr th:only-of-type {\n",
       "        vertical-align: middle;\n",
       "    }\n",
       "\n",
       "    .dataframe tbody tr th {\n",
       "        vertical-align: top;\n",
       "    }\n",
       "\n",
       "    .dataframe thead th {\n",
       "        text-align: right;\n",
       "    }\n",
       "</style>\n",
       "<table border=\"1\" class=\"dataframe\">\n",
       "  <thead>\n",
       "    <tr style=\"text-align: right;\">\n",
       "      <th></th>\n",
       "      <th>sex</th>\n",
       "      <th>age</th>\n",
       "      <th>grade</th>\n",
       "      <th>absence</th>\n",
       "      <th>bloodtype</th>\n",
       "      <th>height</th>\n",
       "      <th>weight</th>\n",
       "      <th>bmi</th>\n",
       "    </tr>\n",
       "  </thead>\n",
       "  <tbody>\n",
       "    <tr>\n",
       "      <td>1</td>\n",
       "      <td>female</td>\n",
       "      <td>24</td>\n",
       "      <td>2</td>\n",
       "      <td>Y</td>\n",
       "      <td>O</td>\n",
       "      <td>160.8</td>\n",
       "      <td>53.6</td>\n",
       "      <td>20.729685</td>\n",
       "    </tr>\n",
       "    <tr>\n",
       "      <td>4</td>\n",
       "      <td>female</td>\n",
       "      <td>23</td>\n",
       "      <td>2</td>\n",
       "      <td>N</td>\n",
       "      <td>O</td>\n",
       "      <td>160.9</td>\n",
       "      <td>53.1</td>\n",
       "      <td>20.510792</td>\n",
       "    </tr>\n",
       "    <tr>\n",
       "      <td>7</td>\n",
       "      <td>female</td>\n",
       "      <td>28</td>\n",
       "      <td>4</td>\n",
       "      <td>Y</td>\n",
       "      <td>O</td>\n",
       "      <td>153.0</td>\n",
       "      <td>53.4</td>\n",
       "      <td>22.811739</td>\n",
       "    </tr>\n",
       "    <tr>\n",
       "      <td>9</td>\n",
       "      <td>female</td>\n",
       "      <td>21</td>\n",
       "      <td>2</td>\n",
       "      <td>Y</td>\n",
       "      <td>O</td>\n",
       "      <td>160.3</td>\n",
       "      <td>53.1</td>\n",
       "      <td>20.664623</td>\n",
       "    </tr>\n",
       "    <tr>\n",
       "      <td>10</td>\n",
       "      <td>female</td>\n",
       "      <td>24</td>\n",
       "      <td>3</td>\n",
       "      <td>N</td>\n",
       "      <td>0</td>\n",
       "      <td>157.3</td>\n",
       "      <td>51.8</td>\n",
       "      <td>20.934969</td>\n",
       "    </tr>\n",
       "  </tbody>\n",
       "</table>\n",
       "</div>"
      ],
      "text/plain": [
       "       sex  age  grade absence bloodtype  height  weight        bmi\n",
       "1   female   24      2       Y         O   160.8    53.6  20.729685\n",
       "4   female   23      2       N         O   160.9    53.1  20.510792\n",
       "7   female   28      4       Y         O   153.0    53.4  22.811739\n",
       "9   female   21      2       Y         O   160.3    53.1  20.664623\n",
       "10  female   24      3       N         0   157.3    51.8  20.934969"
      ]
     },
     "execution_count": 12,
     "metadata": {},
     "output_type": "execute_result"
    }
   ],
   "source": [
    "student_female.head()"
   ]
  },
  {
   "cell_type": "code",
   "execution_count": 21,
   "metadata": {},
   "outputs": [
    {
     "name": "stdout",
     "output_type": "stream",
     "text": [
      "######## Gender Avg. BMI Score #########\n",
      "Select what you want to know about which avg. Bmi score Man(1), Women(2), Exit(3) :3\n"
     ]
    }
   ],
   "source": [
    "print(\"######## Gender Avg. BMI Score #########\")\n",
    "num = int(input(\"Select what you want to know about which avg. Bmi score Man(1), Women(2), Exit(3) :\"))"
   ]
  },
  {
   "cell_type": "markdown",
   "metadata": {},
   "source": [
    "student_male['weight'].mean()"
   ]
  },
  {
   "cell_type": "markdown",
   "metadata": {},
   "source": [
    "student_male['height'].mean()"
   ]
  },
  {
   "cell_type": "code",
   "execution_count": 32,
   "metadata": {},
   "outputs": [
    {
     "name": "stdout",
     "output_type": "stream",
     "text": [
      "End\n"
     ]
    }
   ],
   "source": [
    "if num == 1:\n",
    "    print(calculateBMI(student_male_bmi.sum(), len(student_male_bmi)))\n",
    "elif num == 2:\n",
    "    print(calculateBMI(student_female_bmi.sum(), len(student_female_bmi)))\n",
    "else:\n",
    "    print(\"End\")\n",
    "    ##sys.exit(1)"
   ]
  }
 ],
 "metadata": {
  "kernelspec": {
   "display_name": "Python 3",
   "language": "python",
   "name": "python3"
  },
  "language_info": {
   "codemirror_mode": {
    "name": "ipython",
    "version": 3
   },
   "file_extension": ".py",
   "mimetype": "text/x-python",
   "name": "python",
   "nbconvert_exporter": "python",
   "pygments_lexer": "ipython3",
   "version": "3.7.4"
  }
 },
 "nbformat": 4,
 "nbformat_minor": 2
}
