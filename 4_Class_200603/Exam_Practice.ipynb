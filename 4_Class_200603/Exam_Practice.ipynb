{
 "cells": [
  {
   "cell_type": "code",
   "execution_count": 1,
   "metadata": {},
   "outputs": [
    {
     "data": {
      "text/html": [
       "<div>\n",
       "<style scoped>\n",
       "    .dataframe tbody tr th:only-of-type {\n",
       "        vertical-align: middle;\n",
       "    }\n",
       "\n",
       "    .dataframe tbody tr th {\n",
       "        vertical-align: top;\n",
       "    }\n",
       "\n",
       "    .dataframe thead th {\n",
       "        text-align: right;\n",
       "    }\n",
       "</style>\n",
       "<table border=\"1\" class=\"dataframe\">\n",
       "  <thead>\n",
       "    <tr style=\"text-align: right;\">\n",
       "      <th></th>\n",
       "      <th>sex</th>\n",
       "      <th>age</th>\n",
       "      <th>grade</th>\n",
       "      <th>absence</th>\n",
       "      <th>bloodtype</th>\n",
       "      <th>height</th>\n",
       "      <th>weight</th>\n",
       "    </tr>\n",
       "  </thead>\n",
       "  <tbody>\n",
       "    <tr>\n",
       "      <td>0</td>\n",
       "      <td>male</td>\n",
       "      <td>20</td>\n",
       "      <td>2</td>\n",
       "      <td>N</td>\n",
       "      <td>O</td>\n",
       "      <td>157.1</td>\n",
       "      <td>52.3</td>\n",
       "    </tr>\n",
       "    <tr>\n",
       "      <td>1</td>\n",
       "      <td>female</td>\n",
       "      <td>24</td>\n",
       "      <td>2</td>\n",
       "      <td>Y</td>\n",
       "      <td>O</td>\n",
       "      <td>160.8</td>\n",
       "      <td>53.6</td>\n",
       "    </tr>\n",
       "    <tr>\n",
       "      <td>2</td>\n",
       "      <td>male</td>\n",
       "      <td>28</td>\n",
       "      <td>2</td>\n",
       "      <td>N</td>\n",
       "      <td>O</td>\n",
       "      <td>160.5</td>\n",
       "      <td>53.4</td>\n",
       "    </tr>\n",
       "    <tr>\n",
       "      <td>3</td>\n",
       "      <td>male</td>\n",
       "      <td>22</td>\n",
       "      <td>2</td>\n",
       "      <td>N</td>\n",
       "      <td>AB</td>\n",
       "      <td>159.0</td>\n",
       "      <td>52.2</td>\n",
       "    </tr>\n",
       "    <tr>\n",
       "      <td>4</td>\n",
       "      <td>female</td>\n",
       "      <td>23</td>\n",
       "      <td>2</td>\n",
       "      <td>N</td>\n",
       "      <td>O</td>\n",
       "      <td>160.9</td>\n",
       "      <td>53.1</td>\n",
       "    </tr>\n",
       "  </tbody>\n",
       "</table>\n",
       "</div>"
      ],
      "text/plain": [
       "      sex  age  grade absence bloodtype  height  weight\n",
       "0    male   20      2       N         O   157.1    52.3\n",
       "1  female   24      2       Y         O   160.8    53.6\n",
       "2    male   28      2       N         O   160.5    53.4\n",
       "3    male   22      2       N        AB   159.0    52.2\n",
       "4  female   23      2       N         O   160.9    53.1"
      ]
     },
     "execution_count": 1,
     "metadata": {},
     "output_type": "execute_result"
    }
   ],
   "source": [
    "import numpy as np\n",
    "import pandas as pd\n",
    "\n",
    "data = pd.read_csv(\"./Data/student.csv\")\n",
    "data.head(5)"
   ]
  },
  {
   "cell_type": "code",
   "execution_count": 2,
   "metadata": {},
   "outputs": [
    {
     "name": "stdout",
     "output_type": "stream",
     "text": [
      "0     0.332909\n",
      "1     0.333333\n",
      "2     0.332710\n",
      "3     0.328302\n",
      "4     0.330019\n",
      "        ...   \n",
      "95    0.408005\n",
      "96    0.469687\n",
      "97    0.360438\n",
      "98    0.444842\n",
      "99    0.401004\n",
      "Length: 100, dtype: float64\n"
     ]
    }
   ],
   "source": [
    "print(data['weight'] / data['height'])"
   ]
  },
  {
   "cell_type": "code",
   "execution_count": 6,
   "metadata": {},
   "outputs": [
    {
     "name": "stdout",
     "output_type": "stream",
     "text": [
      "     sex  age  grade absence bloodtype  height  weight\n",
      "0   male   20      2       N         O   157.1    52.3\n",
      "2   male   28      2       N         O   160.5    53.4\n",
      "3   male   22      2       N        AB   159.0    52.2\n",
      "5   male   25      2       Y         A   161.5    50.1\n",
      "6   male   25      2       N         O   155.4    49.9\n",
      "8   male   27      3       Y         0   161.5    53.9\n",
      "12  male   21      3       Y         A   148.3    51.8\n",
      "14  male   23      1       N         B   160.3    49.5\n",
      "15  male   23      2       N         O   166.4    49.9\n",
      "18  male   28      3       N         A   165.9    52.6\n",
      "19  male   28      4       N         A   161.1    53.9\n",
      "20  male   26      4       N         O   149.7    50.2\n",
      "22  male   25      2       N         O   152.3    52.9\n",
      "23  male   21      1       N         B   156.6    51.2\n",
      "24  male   25      2       N         O   156.5    51.7\n",
      "26  male   21      3       Y         O   151.5    52.6\n",
      "29  male   25      3       N         B   156.6    48.4\n",
      "30  male   28      1       Y         O   162.7    54.3\n",
      "38  male   22      3       Y         B   166.9    51.7\n",
      "40  male   21      3       N         B   161.1    48.0\n",
      "41  male   20      2       Y         B   156.8    52.2\n",
      "43  male   23      3       Y         B   160.0    50.8\n",
      "47  male   27      2       N         B   157.5    50.5\n",
      "48  male   28      3       Y         A   154.0    49.9\n",
      "51  male   23      3       N         B   162.0    73.5\n",
      "52  male   28      4       N         O   168.2    68.3\n",
      "53  male   26      2       Y         A   167.8    65.0\n",
      "54  male   24      3       Y         B   157.3    73.3\n",
      "57  male   23      2       N        AB   173.0    68.7\n",
      "59  male   21      2       N        AB   163.8    70.5\n",
      "60  male   24      4       Y         B   161.4    67.4\n",
      "61  male   22      3       Y         O   167.2    72.0\n",
      "64  male   20      1       Y         A   175.8    71.1\n",
      "66  male   27      1       Y         A   171.8    67.8\n",
      "67  male   28      2       Y         A   163.5    70.6\n",
      "70  male   21      3       N         A   194.7    68.9\n",
      "73  male   20      3       N         O   174.1    70.7\n",
      "74  male   22      2       Y         A   161.6    74.2\n",
      "75  male   24      3       Y         O   168.3    73.3\n",
      "81  male   25      3       Y         O   179.1    73.6\n",
      "82  male   23      4       N         O   164.1    75.5\n",
      "86  male   25      1       N         B   169.5    68.1\n",
      "88  male   26      3       Y         O   153.8    63.1\n",
      "89  male   22      1       N         B   179.8    69.9\n",
      "90  male   26      2       Y         A   174.8    74.0\n",
      "93  male   25      3       Y         A   161.5    70.5\n",
      "97  male   23      3       Y         B   173.4    62.5\n",
      "98  male   25      3       Y         O   167.7    74.6\n"
     ]
    }
   ],
   "source": [
    "filter = data['sex'] == 'male'\n",
    "df_male = data[filter]\n",
    "print(data[filter])"
   ]
  },
  {
   "cell_type": "code",
   "execution_count": 4,
   "metadata": {},
   "outputs": [],
   "source": [
    "filter2 = data['sex'] == 'female'\n",
    "df_female = data[filter2]"
   ]
  },
  {
   "cell_type": "code",
   "execution_count": 7,
   "metadata": {},
   "outputs": [
    {
     "name": "stdout",
     "output_type": "stream",
     "text": [
      "     sex  age  grade absence bloodtype  height  weight\n",
      "0   male   20      2       N         O   157.1    52.3\n",
      "2   male   28      2       N         O   160.5    53.4\n",
      "3   male   22      2       N        AB   159.0    52.2\n",
      "5   male   25      2       Y         A   161.5    50.1\n",
      "6   male   25      2       N         O   155.4    49.9\n",
      "8   male   27      3       Y         0   161.5    53.9\n",
      "12  male   21      3       Y         A   148.3    51.8\n",
      "14  male   23      1       N         B   160.3    49.5\n",
      "15  male   23      2       N         O   166.4    49.9\n",
      "18  male   28      3       N         A   165.9    52.6\n",
      "19  male   28      4       N         A   161.1    53.9\n",
      "20  male   26      4       N         O   149.7    50.2\n",
      "22  male   25      2       N         O   152.3    52.9\n",
      "23  male   21      1       N         B   156.6    51.2\n",
      "24  male   25      2       N         O   156.5    51.7\n",
      "26  male   21      3       Y         O   151.5    52.6\n",
      "29  male   25      3       N         B   156.6    48.4\n",
      "30  male   28      1       Y         O   162.7    54.3\n",
      "38  male   22      3       Y         B   166.9    51.7\n",
      "40  male   21      3       N         B   161.1    48.0\n",
      "41  male   20      2       Y         B   156.8    52.2\n",
      "43  male   23      3       Y         B   160.0    50.8\n",
      "47  male   27      2       N         B   157.5    50.5\n",
      "48  male   28      3       Y         A   154.0    49.9\n",
      "51  male   23      3       N         B   162.0    73.5\n",
      "52  male   28      4       N         O   168.2    68.3\n",
      "53  male   26      2       Y         A   167.8    65.0\n",
      "54  male   24      3       Y         B   157.3    73.3\n",
      "57  male   23      2       N        AB   173.0    68.7\n",
      "59  male   21      2       N        AB   163.8    70.5\n",
      "60  male   24      4       Y         B   161.4    67.4\n",
      "61  male   22      3       Y         O   167.2    72.0\n",
      "64  male   20      1       Y         A   175.8    71.1\n",
      "66  male   27      1       Y         A   171.8    67.8\n",
      "67  male   28      2       Y         A   163.5    70.6\n",
      "70  male   21      3       N         A   194.7    68.9\n",
      "73  male   20      3       N         O   174.1    70.7\n",
      "74  male   22      2       Y         A   161.6    74.2\n",
      "75  male   24      3       Y         O   168.3    73.3\n",
      "81  male   25      3       Y         O   179.1    73.6\n",
      "82  male   23      4       N         O   164.1    75.5\n",
      "86  male   25      1       N         B   169.5    68.1\n",
      "88  male   26      3       Y         O   153.8    63.1\n",
      "89  male   22      1       N         B   179.8    69.9\n",
      "90  male   26      2       Y         A   174.8    74.0\n",
      "93  male   25      3       Y         A   161.5    70.5\n",
      "97  male   23      3       Y         B   173.4    62.5\n",
      "98  male   25      3       Y         O   167.7    74.6\n"
     ]
    }
   ],
   "source": [
    "print(df_male)"
   ]
  },
  {
   "cell_type": "code",
   "execution_count": 8,
   "metadata": {},
   "outputs": [
    {
     "name": "stdout",
     "output_type": "stream",
     "text": [
      "       sex  age  grade absence bloodtype  height  weight\n",
      "1   female   24      2       Y         O   160.8    53.6\n",
      "4   female   23      2       N         O   160.9    53.1\n",
      "7   female   28      4       Y         O   153.0    53.4\n",
      "9   female   21      2       Y         O   160.3    53.1\n",
      "10  female   24      3       N         0   157.3    51.8\n",
      "11  female   23      2       N         A   161.7    54.1\n",
      "13  female   28      1       Y         O   166.6    52.0\n",
      "16  female   22      3       N         B   161.6    52.3\n",
      "17  female   26      2       N        AB   160.6    49.7\n",
      "21  female   25      2       N         A   153.8    51.3\n",
      "25  female   21      3       N         O   163.2    51.2\n",
      "27  female   22      4       N         A   155.7    52.0\n",
      "28  female   28      4       Y         O   162.3    54.2\n",
      "31  female   25      4       Y         O   162.4    52.0\n",
      "32  female   24      1       Y         P   161.4    49.0\n",
      "33  female   28      3       Y         B   167.3    51.7\n",
      "34  female   23      2       Y         A   148.9    50.9\n",
      "35  female   21      3       N        AB   160.7    51.5\n",
      "36  female   27      4       N         A   154.9    51.5\n",
      "37  female   25      2       N         A   160.7    50.9\n",
      "39  female   27      2       N         A   148.0    47.1\n",
      "42  female   28      2       N         B   160.9    50.3\n",
      "44  female   26      3       Y        AB   158.1    51.6\n",
      "45  female   25      2       N         B   154.0    53.4\n",
      "46  female   27      2       Y         O   163.2    53.2\n",
      "49  female   27      1       Y         A   166.6    50.1\n",
      "50  female   24      1       N        AB   178.3    68.0\n",
      "55  female   28      2       N         B   169.2    71.9\n",
      "56  female   28      1       N         A   189.1    68.4\n",
      "58  female   22      2       N         B   170.9    67.0\n",
      "62  female   24      3       Y         A   156.3    68.0\n",
      "63  female   28      4       N         A   164.1    71.5\n",
      "65  female   21      1       N        AB   176.5    64.6\n",
      "68  female   24      1       N         O   165.3    64.5\n",
      "69  female   27      3       N         B   183.7    69.9\n",
      "71  female   22      2       Y        AB   160.5    71.1\n",
      "72  female   26      2       Y         B   179.1    78.5\n",
      "76  female   21      2       Y         O   174.6    75.4\n",
      "77  female   24      4       N         O   169.4    72.0\n",
      "78  female   28      3       N         A   194.4    71.7\n",
      "79  female   24      4       N        AB   176.6    68.4\n",
      "80  female   25      4       Y         O   164.0    69.8\n",
      "83  female   21      3       N         O   177.9    66.2\n",
      "84  female   23      2       Y         A   157.5    69.2\n",
      "85  female   26      4       Y        AB   159.7    68.7\n",
      "87  female   24      2       N         O   179.3    65.8\n",
      "91  female   24      2       N         B   150.9    64.2\n",
      "92  female   22      2       Y         A   165.7    68.5\n",
      "94  female   24      1       Y         A   155.4    67.1\n",
      "95  female   27      4       Y         A   154.9    63.2\n",
      "96  female   27      1       N         O   156.7    73.6\n",
      "99  female   28      3       N         A   179.3    71.9\n"
     ]
    }
   ],
   "source": [
    "print(df_female)"
   ]
  },
  {
   "cell_type": "code",
   "execution_count": 9,
   "metadata": {},
   "outputs": [
    {
     "name": "stdout",
     "output_type": "stream",
     "text": [
      "       sex  age  grade absence bloodtype  height  weight  bmi\n",
      "0     male   20      2       N         O   157.1    52.3   40\n",
      "1   female   24      2       Y         O   160.8    53.6   40\n",
      "2     male   28      2       N         O   160.5    53.4   40\n",
      "3     male   22      2       N        AB   159.0    52.2   40\n",
      "4   female   23      2       N         O   160.9    53.1   40\n",
      "..     ...  ...    ...     ...       ...     ...     ...  ...\n",
      "95  female   27      4       Y         A   154.9    63.2   40\n",
      "96  female   27      1       N         O   156.7    73.6   40\n",
      "97    male   23      3       Y         B   173.4    62.5   40\n",
      "98    male   25      3       Y         O   167.7    74.6   40\n",
      "99  female   28      3       N         A   179.3    71.9   40\n",
      "\n",
      "[100 rows x 8 columns]\n"
     ]
    }
   ],
   "source": [
    "data['bmi'] = 2*2*10\n",
    "print(data)"
   ]
  },
  {
   "cell_type": "code",
   "execution_count": 10,
   "metadata": {},
   "outputs": [
    {
     "data": {
      "text/plain": [
       "40.0"
      ]
     },
     "execution_count": 10,
     "metadata": {},
     "output_type": "execute_result"
    }
   ],
   "source": [
    "data['bmi'].mean()"
   ]
  }
 ],
 "metadata": {
  "kernelspec": {
   "display_name": "Python 3",
   "language": "python",
   "name": "python3"
  },
  "language_info": {
   "codemirror_mode": {
    "name": "ipython",
    "version": 3
   },
   "file_extension": ".py",
   "mimetype": "text/x-python",
   "name": "python",
   "nbconvert_exporter": "python",
   "pygments_lexer": "ipython3",
   "version": "3.7.4"
  }
 },
 "nbformat": 4,
 "nbformat_minor": 2
}
