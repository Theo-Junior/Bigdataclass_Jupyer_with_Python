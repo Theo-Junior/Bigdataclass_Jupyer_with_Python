{
 "cells": [
  {
   "cell_type": "code",
   "execution_count": 11,
   "metadata": {},
   "outputs": [
    {
     "output_type": "execute_result",
     "data": {
      "text/plain": "7.639999999999999"
     },
     "metadata": {},
     "execution_count": 11
    }
   ],
   "source": [
    "import os\n",
    "import cx_Oracle\n",
    "import time\n",
    "import requests\n",
    "import numpy as np \n",
    "from bs4 import BeautifulSoup\n",
    "import pandas as pd \n",
    "\n",
    "\n",
    "\n",
    "URL = \"http://ticket2.movie.daum.net/Movie/MovieRankList.aspx\"\n",
    "\n",
    "res = requests.get(URL)\n",
    "soup = BeautifulSoup(res.content, 'lxml')\n",
    "box = soup.find_all('div', class_=\"desc_boxthumb\")\n",
    "\n",
    "# count = 0\n",
    "data = []\n",
    "for movie in box:  \n",
    "    title, ranking = movie.find('strong', class_=\"tit_join\"), movie.find('em', class_=\"emph_grade\")\n",
    "    movie, grade = title.get_text().strip(), ranking.get_text().strip()\n",
    "    # print(movie, grade)\n",
    "    list2 = [movie, grade]#movie, grade를 list(이름,평점)로 가진 형태로 만듦\n",
    "    data.append([movie,grade])#data에 list2의 모든데치터를 가지고 있는 리스 형태로 변환\n",
    "\n",
    "df = pd.DataFrame(data,columns = ['title','rating'])\n",
    "df.shape\n",
    "df.dtypes\n",
    "df['rating'] = df['rating'].astype(float)\n",
    "# df = df.astype({'title':str,'rating':float}) #str = S10\n",
    "df.dtypes\n",
    "df['rating'].mean()\n"
   ]
  },
  {
   "cell_type": "code",
   "execution_count": 23,
   "metadata": {},
   "outputs": [
    {
     "output_type": "execute_result",
     "data": {
      "text/plain": "     time            artist  year\n0    4:22             2 Pac  2000\n1    3:15           2Ge+her  2000\n2    3:53      3 Doors Down  2000\n3    4:24      3 Doors Down  2000\n4    3:35          504 Boyz  2000\n..    ...               ...   ...\n312  3:10       Yankee Grey  2000\n313  3:55  Yearwood, Trisha  2000\n314  4:19   Ying Yang Twins  2000\n315  3:30     Zombie Nation  2000\n316  4:12   matchbox twenty  2000\n\n[317 rows x 3 columns]",
      "text/html": "<div>\n<style scoped>\n    .dataframe tbody tr th:only-of-type {\n        vertical-align: middle;\n    }\n\n    .dataframe tbody tr th {\n        vertical-align: top;\n    }\n\n    .dataframe thead th {\n        text-align: right;\n    }\n</style>\n<table border=\"1\" class=\"dataframe\">\n  <thead>\n    <tr style=\"text-align: right;\">\n      <th></th>\n      <th>time</th>\n      <th>artist</th>\n      <th>year</th>\n    </tr>\n  </thead>\n  <tbody>\n    <tr>\n      <th>0</th>\n      <td>4:22</td>\n      <td>2 Pac</td>\n      <td>2000</td>\n    </tr>\n    <tr>\n      <th>1</th>\n      <td>3:15</td>\n      <td>2Ge+her</td>\n      <td>2000</td>\n    </tr>\n    <tr>\n      <th>2</th>\n      <td>3:53</td>\n      <td>3 Doors Down</td>\n      <td>2000</td>\n    </tr>\n    <tr>\n      <th>3</th>\n      <td>4:24</td>\n      <td>3 Doors Down</td>\n      <td>2000</td>\n    </tr>\n    <tr>\n      <th>4</th>\n      <td>3:35</td>\n      <td>504 Boyz</td>\n      <td>2000</td>\n    </tr>\n    <tr>\n      <th>...</th>\n      <td>...</td>\n      <td>...</td>\n      <td>...</td>\n    </tr>\n    <tr>\n      <th>312</th>\n      <td>3:10</td>\n      <td>Yankee Grey</td>\n      <td>2000</td>\n    </tr>\n    <tr>\n      <th>313</th>\n      <td>3:55</td>\n      <td>Yearwood, Trisha</td>\n      <td>2000</td>\n    </tr>\n    <tr>\n      <th>314</th>\n      <td>4:19</td>\n      <td>Ying Yang Twins</td>\n      <td>2000</td>\n    </tr>\n    <tr>\n      <th>315</th>\n      <td>3:30</td>\n      <td>Zombie Nation</td>\n      <td>2000</td>\n    </tr>\n    <tr>\n      <th>316</th>\n      <td>4:12</td>\n      <td>matchbox twenty</td>\n      <td>2000</td>\n    </tr>\n  </tbody>\n</table>\n<p>317 rows × 3 columns</p>\n</div>"
     },
     "metadata": {},
     "execution_count": 23
    }
   ],
   "source": [
    "#csv파일 읽는 법\n",
    "df = pd.read_csv(\"../data/billboard.csv\")\n",
    "df.shape\n",
    "df.dtypes\n",
    "df.describe()\n",
    "df.columns\n",
    "#df.index\n",
    "df2 = df.reindex(index = [0,1,2],columns=['time','artist','year'])\n",
    "df2"
   ]
  },
  {
   "cell_type": "code",
   "execution_count": 36,
   "metadata": {},
   "outputs": [
    {
     "output_type": "execute_result",
     "data": {
      "text/plain": "          one       two      col3\n100  0.389073 -1.339039  1.288575\n200 -0.142247 -0.021593  0.180499\n2    0.071969 -0.720827  0.351239\n3   -0.706206  0.284038 -0.237637\n4   -2.350904 -0.210358  0.879222\n5    0.471956 -1.540830  0.870945",
      "text/html": "<div>\n<style scoped>\n    .dataframe tbody tr th:only-of-type {\n        vertical-align: middle;\n    }\n\n    .dataframe tbody tr th {\n        vertical-align: top;\n    }\n\n    .dataframe thead th {\n        text-align: right;\n    }\n</style>\n<table border=\"1\" class=\"dataframe\">\n  <thead>\n    <tr style=\"text-align: right;\">\n      <th></th>\n      <th>one</th>\n      <th>two</th>\n      <th>col3</th>\n    </tr>\n  </thead>\n  <tbody>\n    <tr>\n      <th>100</th>\n      <td>0.389073</td>\n      <td>-1.339039</td>\n      <td>1.288575</td>\n    </tr>\n    <tr>\n      <th>200</th>\n      <td>-0.142247</td>\n      <td>-0.021593</td>\n      <td>0.180499</td>\n    </tr>\n    <tr>\n      <th>2</th>\n      <td>0.071969</td>\n      <td>-0.720827</td>\n      <td>0.351239</td>\n    </tr>\n    <tr>\n      <th>3</th>\n      <td>-0.706206</td>\n      <td>0.284038</td>\n      <td>-0.237637</td>\n    </tr>\n    <tr>\n      <th>4</th>\n      <td>-2.350904</td>\n      <td>-0.210358</td>\n      <td>0.879222</td>\n    </tr>\n    <tr>\n      <th>5</th>\n      <td>0.471956</td>\n      <td>-1.540830</td>\n      <td>0.870945</td>\n    </tr>\n  </tbody>\n</table>\n</div>"
     },
     "metadata": {},
     "execution_count": 36
    }
   ],
   "source": [
    "import pandas as pd \n",
    "import numpy as np \n",
    "df3 = pd.DataFrame(np.random.randn(6,3), columns=['col1','col2','col3'])\n",
    "df3\n",
    "df4 = df3.rename(index={0:100,1:200},columns={'col1':'one','col2':'two'}) \n",
    "#이름을 columns만 아니라 index도 가능\n",
    "df4"
   ]
  },
  {
   "cell_type": "code",
   "execution_count": 54,
   "metadata": {},
   "outputs": [
    {
     "output_type": "execute_result",
     "data": {
      "text/plain": "a   -0.618544\nb    0.506073\nName: col1, dtype: float64"
     },
     "metadata": {},
     "execution_count": 54
    }
   ],
   "source": [
    "#java, pyyhon, html, css, javascript, database, statistics, numpy, pandas....Index\n",
    "#spring, mvc, design pattern\n",
    "#maching learning, skit-learn, deep learning, cloud\n",
    "#기사, sqld 1-2, adsp 1-2, 알고리즘(기초...), linux -1\n",
    "\n",
    "\n",
    "# application developer(full stack)\n",
    "#java, jsp, servelet, spring, html5, css3, javascript, react.js, angular.js, vue,js,\n",
    "#database(sql syntax, procedure..)\n",
    "#node.js, mysql, mssql, python,... 3번.IndexError\n",
    "\n",
    "#웹에이전시...앱.. 비추\n",
    "\n",
    "#spark, hadoop, linux, 분산어플케이션, 빅데이터 개발환경\n",
    "#openstack -> 캐인 커뮤니티. 클라우드....\n",
    "\n",
    "import numpy as np \n",
    "import pandas as pd\n",
    "\n",
    "df = pd.DataFrame(np.random.randn(6,4),index = ['a','b','c','d','e','f'],\\\n",
    "                    columns = ['col1','col2','col3','col4'])\n",
    "df\n",
    "df.loc[['a','c'],['col1','col3']]\n",
    "df.loc[['a'],['col1']] #loc를 붙여줘야함\n",
    "df.loc['a':'f','col1':'col3']\n",
    "df.loc['a']>0\n",
    "# df.iloc[0:2,0:2]\n",
    "# df.iloc[1:3,1:2]\n",
    "df['col1'][:2]"
   ]
  }
 ],
 "metadata": {
  "language_info": {
   "codemirror_mode": {
    "name": "ipython",
    "version": 3
   },
   "file_extension": ".py",
   "mimetype": "text/x-python",
   "name": "python",
   "nbconvert_exporter": "python",
   "pygments_lexer": "ipython3",
   "version": "3.7.7-final"
  },
  "orig_nbformat": 2,
  "kernelspec": {
   "name": "python37764bit4edaf7bc3fb24709bcca0db32927b15e",
   "display_name": "Python 3.7.7 64-bit"
  }
 },
 "nbformat": 4,
 "nbformat_minor": 2
}