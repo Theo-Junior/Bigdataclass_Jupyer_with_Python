{
 "cells": [
  {
   "cell_type": "code",
   "execution_count": 27,
   "metadata": {},
   "outputs": [
    {
     "output_type": "execute_result",
     "data": {
      "text/plain": "Index(['row1', 'row2', 'row3', 'row4', 'row5'], dtype='object')"
     },
     "metadata": {},
     "execution_count": 27
    }
   ],
   "source": [
    "import numpy as np\n",
    "import pandas as pd\n",
    "\n",
    "data2 = {'a':[1,2,3,4,5], 'b':[6,7,8,9,10]}\n",
    "df2 = pd.DataFrame(data2, index=[\"row1\",'row2','row3','row4','row5'])\n",
    "df2.iloc[1]\n",
    "df2.iloc[1]\n",
    "df2['a']\n",
    "df2['b']\n",
    "df2.loc['row1']\n",
    "row2 = pd.DataFrame([[1,2]], columns=['a','b'], index=['row6'])\n",
    "row2\n",
    "df2.append(row2)\n",
    "df2.drop(\"row1\")\n",
    "df2.columns\n",
    "df2.index"
   ]
  },
  {
   "cell_type": "code",
   "execution_count": null,
   "metadata": {},
   "outputs": [],
   "source": []
  }
 ],
 "metadata": {
  "language_info": {
   "codemirror_mode": {
    "name": "ipython",
    "version": 3
   },
   "file_extension": ".py",
   "mimetype": "text/x-python",
   "name": "python",
   "nbconvert_exporter": "python",
   "pygments_lexer": "ipython3",
   "version": "3.7.7-final"
  },
  "orig_nbformat": 2,
  "kernelspec": {
   "name": "python37764bit2a62d355062c4d9c86e007042d04db36",
   "display_name": "Python 3.7.7 64-bit"
  }
 },
 "nbformat": 4,
 "nbformat_minor": 2
}