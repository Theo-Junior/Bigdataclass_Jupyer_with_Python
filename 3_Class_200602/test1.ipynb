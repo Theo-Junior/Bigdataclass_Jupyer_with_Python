{
 "cells": [
  {
   "cell_type": "code",
   "execution_count": 11,
   "metadata": {},
   "outputs": [
    {
     "output_type": "execute_result",
     "data": {
      "text/plain": "pandas.core.series.Series"
     },
     "metadata": {},
     "execution_count": 11
    }
   ],
   "source": [
    "import pandas as pd\n",
    "import numpy as np\n",
    "s = pd.Series()\n",
    "s\n",
    "data = pd.Series([1,2,3,4])\n",
    "data\n",
    "data2 = pd.Series(['a','b','c','d'])\n",
    "data2\n",
    "data3 = pd.Series(['a','b','c','d'], index=[100,110,120,130])\n",
    "data3\n",
    "a = np.array([1,2,3,4])\n",
    "a\n",
    "data4 = pd.Series(a, index=[10,20,30,40])\n",
    "data4\n",
    "dict1 = {1:'test', 2:'test2', 3:'test3'}\n",
    "data5 = pd.Series(dict1)\n",
    "data5\n",
    "data6 = pd.Series(dict1, index=[3,1,2])\n",
    "data6\n",
    "type(data6)"
   ]
  },
  {
   "cell_type": "code",
   "execution_count": null,
   "metadata": {},
   "outputs": [],
   "source": []
  }
 ],
 "metadata": {
  "language_info": {
   "codemirror_mode": {
    "name": "ipython",
    "version": 3
   },
   "file_extension": ".py",
   "mimetype": "text/x-python",
   "name": "python",
   "nbconvert_exporter": "python",
   "pygments_lexer": "ipython3",
   "version": "3.7.7-final"
  },
  "orig_nbformat": 2,
  "kernelspec": {
   "name": "python37764bit2a62d355062c4d9c86e007042d04db36",
   "display_name": "Python 3.7.7 64-bit"
  }
 },
 "nbformat": 4,
 "nbformat_minor": 2
}