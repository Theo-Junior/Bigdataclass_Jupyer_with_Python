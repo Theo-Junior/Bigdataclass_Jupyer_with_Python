{
 "cells": [
  {
   "cell_type": "code",
   "execution_count": 22,
   "metadata": {},
   "outputs": [
    {
     "output_type": "error",
     "ename": "KeyError",
     "evalue": "'a'",
     "traceback": [
      "\u001b[1;31m---------------------------------------------------------------------------\u001b[0m",
      "\u001b[1;31mKeyError\u001b[0m                                  Traceback (most recent call last)",
      "\u001b[1;32m<ipython-input-22-35811b10408c>\u001b[0m in \u001b[0;36m<module>\u001b[1;34m\u001b[0m\n\u001b[0;32m      7\u001b[0m \u001b[0mdata8\u001b[0m\u001b[1;33m[\u001b[0m\u001b[1;33m:\u001b[0m\u001b[1;36m3\u001b[0m\u001b[1;33m]\u001b[0m\u001b[1;33m\u001b[0m\u001b[1;33m\u001b[0m\u001b[0m\n\u001b[0;32m      8\u001b[0m \u001b[0mdata8\u001b[0m \u001b[1;33m=\u001b[0m\u001b[0mpd\u001b[0m\u001b[1;33m.\u001b[0m\u001b[0mSeries\u001b[0m\u001b[1;33m(\u001b[0m\u001b[1;33m[\u001b[0m\u001b[1;36m1\u001b[0m\u001b[1;33m,\u001b[0m\u001b[1;36m2\u001b[0m\u001b[1;33m,\u001b[0m\u001b[1;36m3\u001b[0m\u001b[1;33m,\u001b[0m\u001b[1;36m4\u001b[0m\u001b[1;33m,\u001b[0m\u001b[1;36m5\u001b[0m\u001b[1;33m,\u001b[0m\u001b[1;36m6\u001b[0m\u001b[1;33m]\u001b[0m\u001b[1;33m,\u001b[0m \u001b[0mindex\u001b[0m\u001b[1;33m=\u001b[0m\u001b[1;33m[\u001b[0m\u001b[1;36m100\u001b[0m\u001b[1;33m,\u001b[0m\u001b[1;36m101\u001b[0m\u001b[1;33m,\u001b[0m\u001b[1;36m102\u001b[0m\u001b[1;33m,\u001b[0m\u001b[1;36m103\u001b[0m\u001b[1;33m,\u001b[0m\u001b[1;36m104\u001b[0m\u001b[1;33m,\u001b[0m\u001b[1;36m105\u001b[0m\u001b[1;33m]\u001b[0m\u001b[1;33m)\u001b[0m\u001b[1;33m\u001b[0m\u001b[1;33m\u001b[0m\u001b[0m\n\u001b[1;32m----> 9\u001b[1;33m \u001b[0mdata8\u001b[0m\u001b[1;33m[\u001b[0m\u001b[1;34m'a'\u001b[0m\u001b[1;33m]\u001b[0m\u001b[1;33m\u001b[0m\u001b[1;33m\u001b[0m\u001b[0m\n\u001b[0m\u001b[0;32m     10\u001b[0m \u001b[0mdata9\u001b[0m \u001b[1;33m=\u001b[0m\u001b[0mpd\u001b[0m\u001b[1;33m.\u001b[0m\u001b[0mSeries\u001b[0m\u001b[1;33m(\u001b[0m\u001b[1;33m[\u001b[0m\u001b[1;36m2\u001b[0m\u001b[1;33m,\u001b[0m\u001b[1;36m3\u001b[0m\u001b[1;33m,\u001b[0m\u001b[1;36m4\u001b[0m\u001b[1;33m,\u001b[0m\u001b[1;36m5\u001b[0m\u001b[1;33m]\u001b[0m\u001b[1;33m)\u001b[0m\u001b[1;33m\u001b[0m\u001b[1;33m\u001b[0m\u001b[0m\n\u001b[0;32m     11\u001b[0m \u001b[0mdata9\u001b[0m\u001b[1;33m[\u001b[0m\u001b[1;36m0\u001b[0m\u001b[1;33m]\u001b[0m\u001b[1;33m\u001b[0m\u001b[1;33m\u001b[0m\u001b[0m\n",
      "\u001b[1;32mC:\\Python37\\lib\\site-packages\\pandas\\core\\series.py\u001b[0m in \u001b[0;36m__getitem__\u001b[1;34m(self, key)\u001b[0m\n\u001b[0;32m    869\u001b[0m         \u001b[0mkey\u001b[0m \u001b[1;33m=\u001b[0m \u001b[0mcom\u001b[0m\u001b[1;33m.\u001b[0m\u001b[0mapply_if_callable\u001b[0m\u001b[1;33m(\u001b[0m\u001b[0mkey\u001b[0m\u001b[1;33m,\u001b[0m \u001b[0mself\u001b[0m\u001b[1;33m)\u001b[0m\u001b[1;33m\u001b[0m\u001b[1;33m\u001b[0m\u001b[0m\n\u001b[0;32m    870\u001b[0m         \u001b[1;32mtry\u001b[0m\u001b[1;33m:\u001b[0m\u001b[1;33m\u001b[0m\u001b[1;33m\u001b[0m\u001b[0m\n\u001b[1;32m--> 871\u001b[1;33m             \u001b[0mresult\u001b[0m \u001b[1;33m=\u001b[0m \u001b[0mself\u001b[0m\u001b[1;33m.\u001b[0m\u001b[0mindex\u001b[0m\u001b[1;33m.\u001b[0m\u001b[0mget_value\u001b[0m\u001b[1;33m(\u001b[0m\u001b[0mself\u001b[0m\u001b[1;33m,\u001b[0m \u001b[0mkey\u001b[0m\u001b[1;33m)\u001b[0m\u001b[1;33m\u001b[0m\u001b[1;33m\u001b[0m\u001b[0m\n\u001b[0m\u001b[0;32m    872\u001b[0m \u001b[1;33m\u001b[0m\u001b[0m\n\u001b[0;32m    873\u001b[0m             \u001b[1;32mif\u001b[0m \u001b[1;32mnot\u001b[0m \u001b[0mis_scalar\u001b[0m\u001b[1;33m(\u001b[0m\u001b[0mresult\u001b[0m\u001b[1;33m)\u001b[0m\u001b[1;33m:\u001b[0m\u001b[1;33m\u001b[0m\u001b[1;33m\u001b[0m\u001b[0m\n",
      "\u001b[1;32mC:\\Python37\\lib\\site-packages\\pandas\\core\\indexes\\base.py\u001b[0m in \u001b[0;36mget_value\u001b[1;34m(self, series, key)\u001b[0m\n\u001b[0;32m   4403\u001b[0m         \u001b[0mk\u001b[0m \u001b[1;33m=\u001b[0m \u001b[0mself\u001b[0m\u001b[1;33m.\u001b[0m\u001b[0m_convert_scalar_indexer\u001b[0m\u001b[1;33m(\u001b[0m\u001b[0mk\u001b[0m\u001b[1;33m,\u001b[0m \u001b[0mkind\u001b[0m\u001b[1;33m=\u001b[0m\u001b[1;34m\"getitem\"\u001b[0m\u001b[1;33m)\u001b[0m\u001b[1;33m\u001b[0m\u001b[1;33m\u001b[0m\u001b[0m\n\u001b[0;32m   4404\u001b[0m         \u001b[1;32mtry\u001b[0m\u001b[1;33m:\u001b[0m\u001b[1;33m\u001b[0m\u001b[1;33m\u001b[0m\u001b[0m\n\u001b[1;32m-> 4405\u001b[1;33m             \u001b[1;32mreturn\u001b[0m \u001b[0mself\u001b[0m\u001b[1;33m.\u001b[0m\u001b[0m_engine\u001b[0m\u001b[1;33m.\u001b[0m\u001b[0mget_value\u001b[0m\u001b[1;33m(\u001b[0m\u001b[0ms\u001b[0m\u001b[1;33m,\u001b[0m \u001b[0mk\u001b[0m\u001b[1;33m,\u001b[0m \u001b[0mtz\u001b[0m\u001b[1;33m=\u001b[0m\u001b[0mgetattr\u001b[0m\u001b[1;33m(\u001b[0m\u001b[0mseries\u001b[0m\u001b[1;33m.\u001b[0m\u001b[0mdtype\u001b[0m\u001b[1;33m,\u001b[0m \u001b[1;34m\"tz\"\u001b[0m\u001b[1;33m,\u001b[0m \u001b[1;32mNone\u001b[0m\u001b[1;33m)\u001b[0m\u001b[1;33m)\u001b[0m\u001b[1;33m\u001b[0m\u001b[1;33m\u001b[0m\u001b[0m\n\u001b[0m\u001b[0;32m   4406\u001b[0m         \u001b[1;32mexcept\u001b[0m \u001b[0mKeyError\u001b[0m \u001b[1;32mas\u001b[0m \u001b[0me1\u001b[0m\u001b[1;33m:\u001b[0m\u001b[1;33m\u001b[0m\u001b[1;33m\u001b[0m\u001b[0m\n\u001b[0;32m   4407\u001b[0m             \u001b[1;32mif\u001b[0m \u001b[0mlen\u001b[0m\u001b[1;33m(\u001b[0m\u001b[0mself\u001b[0m\u001b[1;33m)\u001b[0m \u001b[1;33m>\u001b[0m \u001b[1;36m0\u001b[0m \u001b[1;32mand\u001b[0m \u001b[1;33m(\u001b[0m\u001b[0mself\u001b[0m\u001b[1;33m.\u001b[0m\u001b[0mholds_integer\u001b[0m\u001b[1;33m(\u001b[0m\u001b[1;33m)\u001b[0m \u001b[1;32mor\u001b[0m \u001b[0mself\u001b[0m\u001b[1;33m.\u001b[0m\u001b[0mis_boolean\u001b[0m\u001b[1;33m(\u001b[0m\u001b[1;33m)\u001b[0m\u001b[1;33m)\u001b[0m\u001b[1;33m:\u001b[0m\u001b[1;33m\u001b[0m\u001b[1;33m\u001b[0m\u001b[0m\n",
      "\u001b[1;32mpandas\\_libs\\index.pyx\u001b[0m in \u001b[0;36mpandas._libs.index.IndexEngine.get_value\u001b[1;34m()\u001b[0m\n",
      "\u001b[1;32mpandas\\_libs\\index.pyx\u001b[0m in \u001b[0;36mpandas._libs.index.IndexEngine.get_value\u001b[1;34m()\u001b[0m\n",
      "\u001b[1;32mpandas\\_libs\\index.pyx\u001b[0m in \u001b[0;36mpandas._libs.index.IndexEngine.get_loc\u001b[1;34m()\u001b[0m\n",
      "\u001b[1;32mpandas\\_libs\\index_class_helper.pxi\u001b[0m in \u001b[0;36mpandas._libs.index.Int64Engine._check_type\u001b[1;34m()\u001b[0m\n",
      "\u001b[1;31mKeyError\u001b[0m: 'a'"
     ]
    }
   ],
   "source": [
    "data7 = pd.Series(5, index=[1,2,3,4,5,6])\n",
    "data7\n",
    "\n",
    "data8 = pd.Series([1,2,3,4,5,6])\n",
    "data8\n",
    "data8[0]\n",
    "data8[:3]\n",
    "data8 =pd.Series([1,2,3,4,5,6], index=[100,101,102,103,104,105])\n",
    "data8['a']\n",
    "data9 =pd.Series([2,3,4,5])\n",
    "data9[0]\n",
    "data9['g']"
   ]
  },
  {
   "cell_type": "code",
   "execution_count": 14,
   "metadata": {},
   "outputs": [
    {
     "output_type": "execute_result",
     "data": {
      "text/plain": "3    test3\n1     test\n2    test2\ndtype: object"
     },
     "metadata": {},
     "execution_count": 14
    }
   ],
   "source": [
    "import pandas as pd \n",
    "import numpy as np \n",
    "s = pd.Series()\n",
    "s\n",
    "\n",
    "data = pd.Series([1,2,3,4])\n",
    "data\n",
    "\n",
    "data2 = pd.Series(['a','b','c','d'])\n",
    "data2\n",
    "\n",
    "data3 = pd.Series(['a','b','c','d'], index=[100,110,120,130])\n",
    "data3\n",
    "a= np.array([1,2,3,4])\n",
    "a\n",
    "data4 = pd.Series(a,index=[10,20,30,40])\n",
    "data4\n",
    "\n",
    "dic1 = {1:'test',2:'test2',3:'test3'}\n",
    "data5 = pd.Series(dic1)\n",
    "data5\n",
    "\n",
    "data6 = pd.Series(dic1, index=[3,1,2])\n",
    "data6"
   ]
  },
  {
   "cell_type": "code",
   "execution_count": 53,
   "metadata": {},
   "outputs": [
    {
     "output_type": "execute_result",
     "data": {
      "text/plain": "Bob      4\nSteve    7\nJeff    -5\nRyan     3\ndtype: int64"
     },
     "metadata": {},
     "execution_count": 53
    }
   ],
   "source": [
    "obj = pd.Series([4,7,-5,3])\n",
    "obj\n",
    "obj.values\n",
    "obj.index\n",
    "\n",
    "obj2 =pd.Series([4,7,-5,3],index=['d','b','a','c'])\n",
    "obj2\n",
    "obj2.index\n",
    "obj2['a']\n",
    "obj2['d'] = 6\n",
    "obj2[['c','a','d']]\n",
    "obj2[obj2>0]\n",
    "obj2*2 \n",
    "np.exp(obj2) #exp (x) = e ^ x 여기서 e = 2.718281 (약)\n",
    "\n",
    "'b' in obj2\n",
    "'e' in obj2\n",
    "\n",
    "sdata ={'Ohio':35000,'Texas':71000,'Oregon':16000,'Utah':5000}\n",
    "obj3= pd.Series(sdata)\n",
    "obj3\n",
    "states = ['California','Ohio','Oregon','Texas']\n",
    "obj4 = pd.Series(sdata,index=states)\n",
    "obj4\n",
    "\n",
    "pd.isnull(obj4)\n",
    "pd.notnull(obj4)\n",
    "\n",
    "obj4.isnull()\n",
    "\n",
    "obj3 + obj4\n",
    "\n",
    "obj4.name = 'population'\n",
    "obj4.index.name = 'state'\n",
    "obj4\n",
    "\n",
    "obj\n",
    "\n",
    "obj.index=['Bob','Steve','Jeff','Ryan']\n",
    "obj"
   ]
  },
  {
   "cell_type": "code",
   "execution_count": 77,
   "metadata": {},
   "outputs": [
    {
     "output_type": "execute_result",
     "data": {
      "text/plain": "     age  name\nno1   20   이순신\nno2   21   강감찬\nno3   22  을지문덕\nno4   30   홍길동",
      "text/html": "<div>\n<style scoped>\n    .dataframe tbody tr th:only-of-type {\n        vertical-align: middle;\n    }\n\n    .dataframe tbody tr th {\n        vertical-align: top;\n    }\n\n    .dataframe thead th {\n        text-align: right;\n    }\n</style>\n<table border=\"1\" class=\"dataframe\">\n  <thead>\n    <tr style=\"text-align: right;\">\n      <th></th>\n      <th>age</th>\n      <th>name</th>\n    </tr>\n  </thead>\n  <tbody>\n    <tr>\n      <th>no1</th>\n      <td>20</td>\n      <td>이순신</td>\n    </tr>\n    <tr>\n      <th>no2</th>\n      <td>21</td>\n      <td>강감찬</td>\n    </tr>\n    <tr>\n      <th>no3</th>\n      <td>22</td>\n      <td>을지문덕</td>\n    </tr>\n    <tr>\n      <th>no4</th>\n      <td>30</td>\n      <td>홍길동</td>\n    </tr>\n  </tbody>\n</table>\n</div>"
     },
     "metadata": {},
     "execution_count": 77
    }
   ],
   "source": [
    "# Lists, Dict, Series, Numpy arrays, DataFrame\n",
    "import numpy as np\n",
    "import pandas as pd\n",
    "\n",
    "df = pd.DataFrame() # 칼럼, 인덱스로 구성 \n",
    "type(df)\n",
    "df\n",
    " \n",
    "df1 = pd.DataFrame([1,2,3,4,5,6]) # 기본은 이차원 프레임\n",
    "df1\n",
    "\n",
    "df2 = pd.DataFrame([[1,2], [3,4]])\n",
    "df2\n",
    "\n",
    "df3 = pd.DataFrame([['test1', 10], ['test2', 20], ['test3', 30]],columns=['name','age'],dtype=float)\n",
    "df3\n",
    "\n",
    "df4 = pd.DataFrame({'name':['이순신','강감찬','을지문덕','홍길동'],'age':[20,21,22,30]},\\\n",
    "                    index=['no1','no2','no3','no4'],columns =['age','name'])\n",
    "df4\n",
    "# df5 = pd.DataFrame([{'no1':10,'no2':20},{'no1': 100,'no2':200,'no3':300}]\\\n",
    "#                     ,index =['one','two'],columns = ['no3','no2','no1'])\n",
    "# df5\n",
    "# col1 = pd.Series([1,2,3],index=['a','b','c'])\n",
    "# col2 = pd.Series([3,4,5],index=['a','b','c'])\n",
    "# df6 = pd.DataFrame({'one':col1,'two':col2})\n",
    "# df6['three'] = pd.Series([5,6,6],index=['a','b','c'])\n",
    "# df6\n",
    "# t=df6['one']\n",
    "# type(t)\n",
    "# df6['one']\n",
    "# df6['two']\n",
    "# df6['four'] = df6['one'] + df6['two']\n",
    "# df6"
   ]
  },
  {
   "cell_type": "code",
   "execution_count": 109,
   "metadata": {},
   "outputs": [
    {
     "output_type": "stream",
     "name": "stdout",
     "text": "a  b\nrow1  1  5\nrow2  2  6\nrow3  3  7\nrow4  4  8\nrow5  5  9\n"
    },
    {
     "output_type": "execute_result",
     "data": {
      "text/plain": "      a  b\nrow2  2  6\nrow3  3  7\nrow4  4  8\nrow5  5  9",
      "text/html": "<div>\n<style scoped>\n    .dataframe tbody tr th:only-of-type {\n        vertical-align: middle;\n    }\n\n    .dataframe tbody tr th {\n        vertical-align: top;\n    }\n\n    .dataframe thead th {\n        text-align: right;\n    }\n</style>\n<table border=\"1\" class=\"dataframe\">\n  <thead>\n    <tr style=\"text-align: right;\">\n      <th></th>\n      <th>a</th>\n      <th>b</th>\n    </tr>\n  </thead>\n  <tbody>\n    <tr>\n      <th>row2</th>\n      <td>2</td>\n      <td>6</td>\n    </tr>\n    <tr>\n      <th>row3</th>\n      <td>3</td>\n      <td>7</td>\n    </tr>\n    <tr>\n      <th>row4</th>\n      <td>4</td>\n      <td>8</td>\n    </tr>\n    <tr>\n      <th>row5</th>\n      <td>5</td>\n      <td>9</td>\n    </tr>\n  </tbody>\n</table>\n</div>"
     },
     "metadata": {},
     "execution_count": 109
    }
   ],
   "source": [
    "import numpy as np \n",
    "import pandas as pd \n",
    "\n",
    "data = [[1,2],[3,4]]\n",
    "df = pd.DataFrame(data, index = ['row1','row2'],columns=['col1','col2'])\n",
    "# print(df)\n",
    "df['col2']\n",
    "df.loc['row1']\n",
    "d2 = df.iloc[0]\n",
    "d2\n",
    "df.iloc[1]\n",
    "df[:1]\n",
    "\n",
    "data2 ={'a':[1,2,3,4,5],'b':[5,6,7,8,9]}\n",
    "df2 = pd.DataFrame(data2 ,index=['row1','row2','row3','row4','row5'])\n",
    "print(df2)\n",
    "df2.iloc[1]\n",
    "df2.iloc[2]\n",
    "df2['a']\n",
    "df2['b']\n",
    "df2.loc['row1']\n",
    "\n",
    "row2 = pd.DataFrame([[1,2]],columns=['a','b'],index=['row6'])\n",
    "row2\n",
    "df2.append(row2)\n",
    "df2.drop('row1')"
   ]
  },
  {
   "cell_type": "code",
   "execution_count": 178,
   "metadata": {},
   "outputs": [
    {
     "output_type": "execute_result",
     "data": {
      "text/plain": "2"
     },
     "metadata": {},
     "execution_count": 178
    }
   ],
   "source": [
    "import numpy as np\n",
    "import pandas as pd\n",
    "\n",
    "data =[1,2,3,4,5]\n",
    "df = pd.DataFrame(data)\n",
    "df.ndim\n",
    "sf = pd.Series(data)\n",
    "sf.ndim\n",
    "sf.axes#축 설명\n",
    "sf.size#size\n",
    "sf.values#values 설명\n",
    "sf.head(2)\n",
    "df.head(2)\n",
    "df.T\n",
    "sf.dtype\n",
    "df.dtypes#2차원이기 때문에 dtypes\n",
    "\n",
    "#T, shape\n",
    "df.shape\n",
    "\n",
    "data2 = {'a':pd.Series([1,2,3]), 'b':pd.Series([2,3,4])}\n",
    "df2 = pd.DataFrame(data2)\n",
    "df2\n",
    "df2.shape\n",
    "df2.dtypes\n",
    "df2.ndim\n",
    "# 100, 50, 50 = 200\n",
    "# 100 100 0 = 200"
   ]
  },
  {
   "cell_type": "code",
   "execution_count": 192,
   "metadata": {},
   "outputs": [
    {
     "output_type": "execute_result",
     "data": {
      "text/plain": "       col1      col2      col3\n0  1.375623  0.028090 -0.255159\n1  0.902970  0.838510  1.779894\n2  0.672993  1.625046  0.557789\n3  1.081377 -0.761635  1.909100\n4 -0.129878 -0.806085 -0.887314\n5  1.098373  0.401051 -1.690592\n6 -0.776914  0.049670  1.173708\n7 -0.776914  0.049670  1.173708\n8 -0.776914  0.049670  1.173708\n9 -0.776914  0.049670  1.173708",
      "text/html": "<div>\n<style scoped>\n    .dataframe tbody tr th:only-of-type {\n        vertical-align: middle;\n    }\n\n    .dataframe tbody tr th {\n        vertical-align: top;\n    }\n\n    .dataframe thead th {\n        text-align: right;\n    }\n</style>\n<table border=\"1\" class=\"dataframe\">\n  <thead>\n    <tr style=\"text-align: right;\">\n      <th></th>\n      <th>col1</th>\n      <th>col2</th>\n      <th>col3</th>\n    </tr>\n  </thead>\n  <tbody>\n    <tr>\n      <th>0</th>\n      <td>1.375623</td>\n      <td>0.028090</td>\n      <td>-0.255159</td>\n    </tr>\n    <tr>\n      <th>1</th>\n      <td>0.902970</td>\n      <td>0.838510</td>\n      <td>1.779894</td>\n    </tr>\n    <tr>\n      <th>2</th>\n      <td>0.672993</td>\n      <td>1.625046</td>\n      <td>0.557789</td>\n    </tr>\n    <tr>\n      <th>3</th>\n      <td>1.081377</td>\n      <td>-0.761635</td>\n      <td>1.909100</td>\n    </tr>\n    <tr>\n      <th>4</th>\n      <td>-0.129878</td>\n      <td>-0.806085</td>\n      <td>-0.887314</td>\n    </tr>\n    <tr>\n      <th>5</th>\n      <td>1.098373</td>\n      <td>0.401051</td>\n      <td>-1.690592</td>\n    </tr>\n    <tr>\n      <th>6</th>\n      <td>-0.776914</td>\n      <td>0.049670</td>\n      <td>1.173708</td>\n    </tr>\n    <tr>\n      <th>7</th>\n      <td>-0.776914</td>\n      <td>0.049670</td>\n      <td>1.173708</td>\n    </tr>\n    <tr>\n      <th>8</th>\n      <td>-0.776914</td>\n      <td>0.049670</td>\n      <td>1.173708</td>\n    </tr>\n    <tr>\n      <th>9</th>\n      <td>-0.776914</td>\n      <td>0.049670</td>\n      <td>1.173708</td>\n    </tr>\n  </tbody>\n</table>\n</div>"
     },
     "metadata": {},
     "execution_count": 192
    }
   ],
   "source": [
    "import numpy as np\n",
    "import pandas as pd\n",
    "\n",
    "data ={'name': pd.Series(['강감찬','이순신','홍길동']), 'age':pd.Series([20,30,40]),\\\n",
    "        'salary':pd.Series([2000,3000,4000])}\n",
    "df = pd.DataFrame(data)\n",
    "df.shape\n",
    "df.ndim\n",
    "df.sum(1)\n",
    "df.mean\n",
    "df.std()\n",
    "df.count()\n",
    "df.median()\n",
    "df.min()\n",
    "df.max()\n",
    "df.describe()\n",
    "\n",
    "data2 = {'name': pd.Series(['강감찬','이순신','홍길동','이성계','을지문덕','정약용',\\\n",
    "                            '연개소문','권율']), \\\n",
    "        'age':pd.Series([20,30,40,50,60,70,80,90]),\\\n",
    "        'salary':pd.Series([2000,3000,4000,500,400,300,200,300])}\n",
    "df2 = pd.DataFrame(data2)\n",
    "df2\n",
    "df3 = df2.reindex(index=[0,2,5], columns=['name','salary','grade'])\n",
    "df3\n",
    "\n",
    "df4 = pd.DataFrame(np.random.randn(10,3),columns=['col1','col2','col3'])\n",
    "df4\n",
    "df5 = pd.DataFrame(np.random.randn(7,3),columns=['col1','col2','col3'])\n",
    "df5.reindex_like(df4,method=\"ffill\")#자동 채우기\n"
   ]
  },
  {
   "cell_type": "code",
   "execution_count": 68,
   "metadata": {},
   "outputs": [
    {
     "output_type": "stream",
     "name": "stdout",
     "text": "Nevada  Ohio\n2001     2.4   1.7\n2002     2.9   3.6\n2000     NaN   1.5\n"
    },
    {
     "output_type": "error",
     "ename": "AttributeError",
     "evalue": "'DataFrame' object has no attribute 'vulues'",
     "traceback": [
      "\u001b[1;31m---------------------------------------------------------------------------\u001b[0m",
      "\u001b[1;31mAttributeError\u001b[0m                            Traceback (most recent call last)",
      "\u001b[1;32m<ipython-input-68-04efc595be11>\u001b[0m in \u001b[0;36m<module>\u001b[1;34m\u001b[0m\n\u001b[0;32m     50\u001b[0m \u001b[0mframe3\u001b[0m\u001b[1;33m.\u001b[0m\u001b[0mvalues\u001b[0m\u001b[1;33m\u001b[0m\u001b[1;33m\u001b[0m\u001b[0m\n\u001b[0;32m     51\u001b[0m \u001b[1;33m\u001b[0m\u001b[0m\n\u001b[1;32m---> 52\u001b[1;33m \u001b[0mframe2\u001b[0m\u001b[1;33m.\u001b[0m\u001b[0mvulues\u001b[0m\u001b[1;33m\u001b[0m\u001b[1;33m\u001b[0m\u001b[0m\n\u001b[0m",
      "\u001b[1;32mC:\\Python37\\lib\\site-packages\\pandas\\core\\generic.py\u001b[0m in \u001b[0;36m__getattr__\u001b[1;34m(self, name)\u001b[0m\n\u001b[0;32m   5272\u001b[0m             \u001b[1;32mif\u001b[0m \u001b[0mself\u001b[0m\u001b[1;33m.\u001b[0m\u001b[0m_info_axis\u001b[0m\u001b[1;33m.\u001b[0m\u001b[0m_can_hold_identifiers_and_holds_name\u001b[0m\u001b[1;33m(\u001b[0m\u001b[0mname\u001b[0m\u001b[1;33m)\u001b[0m\u001b[1;33m:\u001b[0m\u001b[1;33m\u001b[0m\u001b[1;33m\u001b[0m\u001b[0m\n\u001b[0;32m   5273\u001b[0m                 \u001b[1;32mreturn\u001b[0m \u001b[0mself\u001b[0m\u001b[1;33m[\u001b[0m\u001b[0mname\u001b[0m\u001b[1;33m]\u001b[0m\u001b[1;33m\u001b[0m\u001b[1;33m\u001b[0m\u001b[0m\n\u001b[1;32m-> 5274\u001b[1;33m             \u001b[1;32mreturn\u001b[0m \u001b[0mobject\u001b[0m\u001b[1;33m.\u001b[0m\u001b[0m__getattribute__\u001b[0m\u001b[1;33m(\u001b[0m\u001b[0mself\u001b[0m\u001b[1;33m,\u001b[0m \u001b[0mname\u001b[0m\u001b[1;33m)\u001b[0m\u001b[1;33m\u001b[0m\u001b[1;33m\u001b[0m\u001b[0m\n\u001b[0m\u001b[0;32m   5275\u001b[0m \u001b[1;33m\u001b[0m\u001b[0m\n\u001b[0;32m   5276\u001b[0m     \u001b[1;32mdef\u001b[0m \u001b[0m__setattr__\u001b[0m\u001b[1;33m(\u001b[0m\u001b[0mself\u001b[0m\u001b[1;33m,\u001b[0m \u001b[0mname\u001b[0m\u001b[1;33m:\u001b[0m \u001b[0mstr\u001b[0m\u001b[1;33m,\u001b[0m \u001b[0mvalue\u001b[0m\u001b[1;33m)\u001b[0m \u001b[1;33m->\u001b[0m \u001b[1;32mNone\u001b[0m\u001b[1;33m:\u001b[0m\u001b[1;33m\u001b[0m\u001b[1;33m\u001b[0m\u001b[0m\n",
      "\u001b[1;31mAttributeError\u001b[0m: 'DataFrame' object has no attribute 'vulues'"
     ]
    }
   ],
   "source": [
    "import pandas as pd\n",
    "import numpy as np\n",
    "data = {'state' : ['Ohio','Ohio','Ohio','Nevada','Nevada','Nevada'],\\\n",
    "        'year' : [2000,2001,2002,2001,2002,2003],\\\n",
    "        'pop' : [1.5,1.7,3.6,2.4,2.9,3.2]}\n",
    "frame = pd.DataFrame(data)\n",
    "frame\n",
    "frame.head()#처음 5개만 출력\n",
    "pd.DataFrame(data,columns=['year','state','pop']) #원하는 컬럼 순서\n",
    "\n",
    "frame2 =pd.DataFrame(data,columns=['year','state','pop','debt'],\\\n",
    "                index=['one','two','three','four','five','six'])\n",
    "\n",
    "frame2\n",
    "frame2.columns\n",
    "frame2['state']\n",
    "frame2['year']\n",
    "\n",
    "frame2.loc['three']\n",
    "frame2['debt'] =16.5\n",
    "frame2\n",
    "frame2['debt'] =np.arange(6.)#float 6.0까지 범위의 숫자를 차례대로 debt컬럼에 대입\n",
    "frame2\n",
    "\n",
    "val = pd.Series([-1.2,-1.5,-1.7],index=['two','four','five'])\n",
    "frame2['debt']=val #index이름에 맞게 val값이 대입 없는 index는 null\n",
    "frame2\n",
    "\n",
    "frame2['eastenr'] = frame2.state == 'Ohio' #없는 칼럼은 추가되고 조건에대한 값으로 입력가능\n",
    "frame2\n",
    "\n",
    "del frame2['eastenr'] #칼럼 삭제\n",
    "frame.columns\n",
    "pop = {'Nevada' : {2001 : 2.4, 2002:2.9},'Ohio':{2000:1.5,2001:1.7,2002:3.6}}\n",
    "frame3 = pd.DataFrame(pop)\n",
    "print(frame3)\n",
    "frame3.T\n",
    "frame3\n",
    "pop2=pd.DataFrame(pop, index=[2001,2002,2003])\n",
    "#index를 지정해주면 지정된 값이 있는경우 데이터를 가져오고 없는 경우 새로 생성\n",
    "pop2\n",
    "pdata = {'Ohio':frame3['Ohio'][:-1], 'Nevada':frame3['Nevada'][:1]} \n",
    "#[:-1] 데이터값의 범위가 없을떄는 null값을 표시됨\n",
    "pdata2=pd.DataFrame(pdata)\n",
    "pdata2\n",
    "\n",
    "frame3.index.name = 'year';frame3.columns.name ='state'\n",
    "frame3\n",
    "\n",
    "frame3.values\n",
    "\n",
    "frame2.vulues"
   ]
  }
 ],
 "metadata": {
  "language_info": {
   "codemirror_mode": {
    "name": "ipython",
    "version": 3
   },
   "file_extension": ".py",
   "mimetype": "text/x-python",
   "name": "python",
   "nbconvert_exporter": "python",
   "pygments_lexer": "ipython3",
   "version": "3.7.7-final"
  },
  "orig_nbformat": 2,
  "kernelspec": {
   "name": "python37764bit4edaf7bc3fb24709bcca0db32927b15e",
   "display_name": "Python 3.7.7 64-bit"
  }
 },
 "nbformat": 4,
 "nbformat_minor": 2
}