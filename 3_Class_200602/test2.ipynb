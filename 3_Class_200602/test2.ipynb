{
 "cells": [
  {
   "cell_type": "code",
   "execution_count": 63,
   "metadata": {},
   "outputs": [
    {
     "output_type": "execute_result",
     "data": {
      "text/plain": "   two  three  four\na    3      5     4\nb    4      6     6\nc    5      6     8",
      "text/html": "<div>\n<style scoped>\n    .dataframe tbody tr th:only-of-type {\n        vertical-align: middle;\n    }\n\n    .dataframe tbody tr th {\n        vertical-align: top;\n    }\n\n    .dataframe thead th {\n        text-align: right;\n    }\n</style>\n<table border=\"1\" class=\"dataframe\">\n  <thead>\n    <tr style=\"text-align: right;\">\n      <th></th>\n      <th>two</th>\n      <th>three</th>\n      <th>four</th>\n    </tr>\n  </thead>\n  <tbody>\n    <tr>\n      <th>a</th>\n      <td>3</td>\n      <td>5</td>\n      <td>4</td>\n    </tr>\n    <tr>\n      <th>b</th>\n      <td>4</td>\n      <td>6</td>\n      <td>6</td>\n    </tr>\n    <tr>\n      <th>c</th>\n      <td>5</td>\n      <td>6</td>\n      <td>8</td>\n    </tr>\n  </tbody>\n</table>\n</div>"
     },
     "metadata": {},
     "execution_count": 63
    }
   ],
   "source": [
    "# Lists, Dict, Series, Numpy arrays, DataFrame\n",
    "import numpy as np\n",
    "import pandas as pd\n",
    "df = pd.DataFrame()\n",
    "#type(df)\n",
    "df\n",
    "df1 = pd.DataFrame([1,2,3,4,5,6])\n",
    "df1\n",
    "df2 = pd.DataFrame([[1,2],[3,4]])\n",
    "df2\n",
    "df3 = pd.DataFrame([['test1',10],['test2',20],['test3',30]], columns=['name','age'], dtype=float)\n",
    "df3\n",
    "df4 = pd.DataFrame({ 'name' : ['이순신','강감찬','을지문덕','홍길동'], \\\n",
    "                        'age' : [20,21,22,30]}, index=['no1','no2', 'no3', 'no4'], \\\n",
    "                        columns = ['age','name'])\n",
    "df4\n",
    "df5 = pd.DataFrame([{'no1' : 10, 'no2': 20}, {'no1' : 100, 'no2' : 200, 'no3' : 300}],\n",
    "                index=['one', 'two'], columns=['no3', 'no2','no1'])\n",
    "df5\n",
    "col1 = pd.Series([1,2,3], index=['a','b','c'])\n",
    "col2 = pd.Series([3,4,5], index=['a','b','c'])\n",
    "df6 = pd.DataFrame({'one': col1, 'two' : col2})\n",
    "df6['three'] = pd.Series([5,6,6],index=['a','b','c'])\n",
    "df6\n",
    "t = df6['one']\n",
    "type(True)\n",
    "df6['one']\n",
    "df6['two']\n",
    "df6['four'] = df6['one'] + df6['two']\n",
    "df6\n",
    "del df6['one']\n",
    "df6"
   ]
  }
 ],
 "metadata": {
  "language_info": {
   "codemirror_mode": {
    "name": "ipython",
    "version": 3
   },
   "file_extension": ".py",
   "mimetype": "text/x-python",
   "name": "python",
   "nbconvert_exporter": "python",
   "pygments_lexer": "ipython3",
   "version": "3.7.7-final"
  },
  "orig_nbformat": 2,
  "kernelspec": {
   "name": "python37764bit2a62d355062c4d9c86e007042d04db36",
   "display_name": "Python 3.7.7 64-bit"
  }
 },
 "nbformat": 4,
 "nbformat_minor": 2
}