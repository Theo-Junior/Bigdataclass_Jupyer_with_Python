{
 "cells": [
  {
   "cell_type": "code",
   "execution_count": null,
   "metadata": {},
   "outputs": [],
   "source": [
    "import numpy as np \n",
    "import pandas as pd\n",
    "df = pd.DataFrame(np.random.randn(10,3),\\\n",
    "    index = pd.date_range('01/06/2020',periods=10),columns = ['col1','col2','col3'])\n",
    "# df.head()\n",
    "# df.shape\n",
    "df\n",
    "# df.rolling(window=2).sum()"
   ]
  },
  {
   "cell_type": "code",
   "execution_count": null,
   "metadata": {},
   "outputs": [],
   "source": [
    "# df2 = pd.DataFrame([[1,2],[2,3],[4,5]])\n",
    "# df2\n",
    "# df3 = df2.iloc[:,:1] #iloc\n",
    "# df3\n",
    "# df3[0] =100\n",
    "# df3\n",
    "# df2\n",
    "\n",
    "df3 = pd.DataFrame([3,2,1])\n",
    "df3\n",
    "df4 = df3[:] #연계가 되어있음\n",
    "df3.iloc[0] = 300\n",
    "df3\n",
    "df3.sort_values(by=[0],inplace=True) #기존 객체처럼 변경할수 있도록 inplace = True를 설정\n",
    "df3"
   ]
  },
  {
   "cell_type": "code",
   "execution_count": 6,
   "metadata": {},
   "outputs": [
    {
     "output_type": "execute_result",
     "data": {
      "text/plain": "0       pig\n1       cow\n2    chiken\n3       cow\n4       pig\nName: 0, dtype: object"
     },
     "metadata": {},
     "execution_count": 6
    }
   ],
   "source": [
    "import numpy as np \n",
    "import pandas as pd\n",
    "\n",
    "list1 =[1,2,3,4,5]\n",
    "\n",
    "def add(x):\n",
    "    return x+10\n",
    "\n",
    "result1= map(add,list1) \n",
    "#map타입으로 변환받는다. map(function,list) list에 대해 function을 실행\n",
    "list(result1) #map타입으로 변환 받기 때문에 list(result1)해야함\n",
    "\n",
    "df5 = pd.DataFrame([[1,2],[3,4]],columns=['col1','col2'])\n",
    "df5['col1'].map(add) #기준으로 col1로 잡고 map함수로 add를 실행  apply,pipe와 유사하다.and\n",
    "\n",
    "list2 = [1,2,3,2,1]\n",
    "df6 = pd.DataFrame(list2)\n",
    "kinds = { 1:'pig', 2:'cow', 3:'chiken'}\n",
    "kinds\n",
    "#1번방식\n",
    "def test(x):\n",
    "    return kinds[x]\n",
    "df6[0].map(test)\n",
    "#2번방식\n",
    "df6[0].map(lambda y: kinds[y])"
   ]
  },
  {
   "cell_type": "code",
   "execution_count": 68,
   "metadata": {},
   "outputs": [
    {
     "output_type": "execute_result",
     "data": {
      "text/plain": "0       pig\n1       pig\n2       pig\n3       pig\n4       cow\n5       pig\n6       pig\n7       pig\n8    salmon\nName: food, dtype: object"
     },
     "metadata": {},
     "execution_count": 68
    }
   ],
   "source": [
    "#279,280\n",
    "meat_to_animal ={'bacon':'pig','pulled pork':'pig','pastrami':'pig','corned beef':'cow'\\\n",
    "                ,'honey ham':'pig','nova lox':'salmon'}\n",
    "data = pd.DataFrame({'food':['bacon','pulled pork','bacon','Pastrami','corned beef',\\\n",
    "                    'Bacon','pastrami','honey ham','nova lox']})\n",
    "data\n",
    "\n",
    "lowercased = data['food'].str.lower() #약자로 다 바꿈\n",
    "data['animal'] = lowercased.map(meat_to_animal)\n",
    "data\n",
    "data['food'].map(lambda x: meat_to_animal[x.lower()])"
   ]
  }
 ],
 "metadata": {
  "language_info": {
   "codemirror_mode": {
    "name": "ipython",
    "version": 3
   },
   "file_extension": ".py",
   "mimetype": "text/x-python",
   "name": "python",
   "nbconvert_exporter": "python",
   "pygments_lexer": "ipython3",
   "version": "3.7.7-final"
  },
  "orig_nbformat": 2,
  "kernelspec": {
   "name": "python37764bit1304f9f95d054c62806119c5c6868c9e",
   "display_name": "Python 3.7.7 64-bit"
  }
 },
 "nbformat": 4,
 "nbformat_minor": 2
}