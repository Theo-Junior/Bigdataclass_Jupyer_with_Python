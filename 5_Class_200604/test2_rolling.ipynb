{
 "cells": [
  {
   "cell_type": "code",
   "execution_count": 3,
   "metadata": {},
   "outputs": [
    {
     "output_type": "execute_result",
     "data": {
      "text/plain": "                col1      col2      col3\n2020-01-06       NaN       NaN       NaN\n2020-01-07       NaN       NaN       NaN\n2020-01-08 -1.514997  0.180599 -0.792498\n2020-01-09  0.011192  0.861458  0.061641\n2020-01-10 -0.608266  1.097021  0.718756\n2020-01-11  0.260915  0.591603  0.068778\n2020-01-12 -0.737353 -0.285525 -0.560550\n2020-01-13 -0.379482  0.193006 -1.042981\n2020-01-14 -0.473556  0.399286 -0.500850\n2020-01-15  0.232121  0.528685 -0.554462",
      "text/html": "<div>\n<style scoped>\n    .dataframe tbody tr th:only-of-type {\n        vertical-align: middle;\n    }\n\n    .dataframe tbody tr th {\n        vertical-align: top;\n    }\n\n    .dataframe thead th {\n        text-align: right;\n    }\n</style>\n<table border=\"1\" class=\"dataframe\">\n  <thead>\n    <tr style=\"text-align: right;\">\n      <th></th>\n      <th>col1</th>\n      <th>col2</th>\n      <th>col3</th>\n    </tr>\n  </thead>\n  <tbody>\n    <tr>\n      <th>2020-01-06</th>\n      <td>NaN</td>\n      <td>NaN</td>\n      <td>NaN</td>\n    </tr>\n    <tr>\n      <th>2020-01-07</th>\n      <td>NaN</td>\n      <td>NaN</td>\n      <td>NaN</td>\n    </tr>\n    <tr>\n      <th>2020-01-08</th>\n      <td>-1.514997</td>\n      <td>0.180599</td>\n      <td>-0.792498</td>\n    </tr>\n    <tr>\n      <th>2020-01-09</th>\n      <td>0.011192</td>\n      <td>0.861458</td>\n      <td>0.061641</td>\n    </tr>\n    <tr>\n      <th>2020-01-10</th>\n      <td>-0.608266</td>\n      <td>1.097021</td>\n      <td>0.718756</td>\n    </tr>\n    <tr>\n      <th>2020-01-11</th>\n      <td>0.260915</td>\n      <td>0.591603</td>\n      <td>0.068778</td>\n    </tr>\n    <tr>\n      <th>2020-01-12</th>\n      <td>-0.737353</td>\n      <td>-0.285525</td>\n      <td>-0.560550</td>\n    </tr>\n    <tr>\n      <th>2020-01-13</th>\n      <td>-0.379482</td>\n      <td>0.193006</td>\n      <td>-1.042981</td>\n    </tr>\n    <tr>\n      <th>2020-01-14</th>\n      <td>-0.473556</td>\n      <td>0.399286</td>\n      <td>-0.500850</td>\n    </tr>\n    <tr>\n      <th>2020-01-15</th>\n      <td>0.232121</td>\n      <td>0.528685</td>\n      <td>-0.554462</td>\n    </tr>\n  </tbody>\n</table>\n</div>"
     },
     "metadata": {},
     "execution_count": 3
    }
   ],
   "source": [
    "import numpy as np\n",
    "import pandas as pd\n",
    "\n",
    "df = pd.DataFrame(np.random.randn(10,3), index = pd.date_range(('01/06/2020'), periods=10),\n",
    "                    columns = ['col1','col2','col3'])\n",
    "df.head()\n",
    "#df.shape\n",
    "df.rolling(window=3).mean()"
   ]
  },
  {
   "cell_type": "code",
   "execution_count": 8,
   "metadata": {},
   "outputs": [
    {
     "output_type": "execute_result",
     "data": {
      "text/plain": "     0  1  2\n0  100  2  3",
      "text/html": "<div>\n<style scoped>\n    .dataframe tbody tr th:only-of-type {\n        vertical-align: middle;\n    }\n\n    .dataframe tbody tr th {\n        vertical-align: top;\n    }\n\n    .dataframe thead th {\n        text-align: right;\n    }\n</style>\n<table border=\"1\" class=\"dataframe\">\n  <thead>\n    <tr style=\"text-align: right;\">\n      <th></th>\n      <th>0</th>\n      <th>1</th>\n      <th>2</th>\n    </tr>\n  </thead>\n  <tbody>\n    <tr>\n      <th>0</th>\n      <td>100</td>\n      <td>2</td>\n      <td>3</td>\n    </tr>\n  </tbody>\n</table>\n</div>"
     },
     "metadata": {},
     "execution_count": 8
    }
   ],
   "source": [
    "df2 = pd.DataFrame([[1,2,3]])\n",
    "df2\n",
    "df3 = df2.iloc[:,:1]\n",
    "df3\n",
    "df3[0] = 100\n",
    "df3\n",
    "df2"
   ]
  }
 ],
 "metadata": {
  "language_info": {
   "codemirror_mode": {
    "name": "ipython",
    "version": 3
   },
   "file_extension": ".py",
   "mimetype": "text/x-python",
   "name": "python",
   "nbconvert_exporter": "python",
   "pygments_lexer": "ipython3",
   "version": "3.7.7-final"
  },
  "orig_nbformat": 2,
  "kernelspec": {
   "name": "python37764bit1304f9f95d054c62806119c5c6868c9e",
   "display_name": "Python 3.7.7 64-bit"
  }
 },
 "nbformat": 4,
 "nbformat_minor": 2
}