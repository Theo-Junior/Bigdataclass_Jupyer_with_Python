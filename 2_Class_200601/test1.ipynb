{
 "cells": [
  {
   "cell_type": "code",
   "execution_count": 5,
   "metadata": {},
   "outputs": [
    {
     "name": "stdout",
     "output_type": "stream",
     "text": [
      "Make Array\n",
      "[1 2 3 4] (4,) 1\n",
      "Double Array\n",
      "1\n",
      "Make double array\n",
      "Array, shape, ndim\n",
      "[[1 2]\n",
      " [3 4]] (2, 2) 2\n",
      "Array 1 to 12\n",
      "[[[1 2]\n",
      "  [2 3]]] (1, 2, 2) 3\n",
      "2\n",
      "Make double array another way\n",
      "\n",
      "(1, 5) 2 int64\n",
      "Make array, other type(float)\n",
      "(3,) 1 float64\n",
      "Make double string array\n",
      "[('name', 'S20'), ('age', 'i1')]\n",
      "Make double array typed (student) / shape, ndim\n",
      "[(b'test1', 20) (b'test2', 30)]\n",
      "(2,) 1\n",
      "make Empty Array, typed int\n",
      "[[2305843009213693979 2305843009213693952                  26]\n",
      " [        12884901906                   0        360777252985]\n",
      " [                  0                   0                   0]\n",
      " [                  0                   0                   0]]\n",
      "Make zero array, typed int\n",
      "[0 0 0 0 0 0 0 0 0 0]\n",
      "make ones array, typed int\n",
      "[[1 1]\n",
      " [1 1]]\n"
     ]
    }
   ],
   "source": [
    "import numpy as np\n",
    "\n",
    "print(\"Make Array\")\n",
    "a = np.array([1,2,3,4])\n",
    "print(a, a.shape, a.ndim)\n",
    "\n",
    "print(\"Double Array\")\n",
    "l = [[1,2],[3,4]]\n",
    "print(l[0][0])\n",
    "\n",
    "print(\"Make double array\")\n",
    "a1 = np.array([[1,2],[3,4]])\n",
    "\n",
    "print(\"Array, shape, ndim\")\n",
    "print(a1, a1.shape,a1.ndim)\n",
    "l2 = [[[1,2],[2,3]]]\n",
    "\n",
    "print(\"Array 1 to 12\")\n",
    "a2 = np.array(l2)\n",
    "print(a2,a2.shape,a2.ndim)\n",
    "print(l2[0][0][1])\n",
    "\n",
    "print(\"Make double array another way\\n\")\n",
    "a3 = np.array([1,2,3,4,5], ndmin=2)\n",
    "print(a3.shape, a3.ndim, a3.dtype)\n",
    "\n",
    "print(\"Make array, other type(float)\")\n",
    "a4 = np.array([1,2,3], dtype=float)\n",
    "print(a4.shape, a4.ndim, a4.dtype)\n",
    "\n",
    "print(\"Make double string array\")\n",
    "student = np.dtype([('name', 'S20'),('age','i1')])\n",
    "print(student)\n",
    "\n",
    "print(\"Make double array typed (student) / shape, ndim\")\n",
    "a5 = np.array([('test1',20),('test2',30)], dtype =student)\n",
    "print(a5)\n",
    "print(a5.shape, a5.ndim)\n",
    "\n",
    "print(\"make Empty Array, typed int\")\n",
    "a6 = np.empty([4,3], dtype = int)\n",
    "print(a6)\n",
    "\n",
    "print(\"Make zero array, typed int\")\n",
    "a7 = np.zeros((10,), dtype=np.int)\n",
    "print(a7)\n",
    "\n",
    "print(\"make ones array, typed int\")\n",
    "a8 = np.ones([2,2], dtype=int)\n",
    "print(a8)"
   ]
  },
  {
   "cell_type": "code",
   "execution_count": 6,
   "metadata": {},
   "outputs": [
    {
     "name": "stdout",
     "output_type": "stream",
     "text": [
      "[0. 1. 2. 3. 4. 5. 6. 7. 8. 9.]\n",
      "[10 12 14 16 18]\n"
     ]
    }
   ],
   "source": [
    "a9 = np.arange(10, dtype = float)\n",
    "print(a9)\n",
    "\n",
    "a10 = np.arange(10, 20, 2)\n",
    "print(a10)"
   ]
  },
  {
   "cell_type": "code",
   "execution_count": 7,
   "metadata": {},
   "outputs": [
    {
     "name": "stdout",
     "output_type": "stream",
     "text": [
      "[10.  12.5 15.  17.5 20. ]\n",
      "[1.   1.25 1.5  1.75 2.  ]\n"
     ]
    }
   ],
   "source": [
    "a11 = np.linspace(10, 20, 5)\n",
    "print(a11)\n",
    "\n",
    "a12 = np.linspace(1, 2, 5)\n",
    "print(a12)"
   ]
  },
  {
   "cell_type": "code",
   "execution_count": 9,
   "metadata": {},
   "outputs": [
    {
     "name": "stdout",
     "output_type": "stream",
     "text": [
      "[0 1 2 3 4 5 6 7 8 9]\n",
      "[2 4 6]\n",
      "[2 4 6]\n"
     ]
    }
   ],
   "source": [
    "a13 = np.arange(10)\n",
    "print(a13)\n",
    "\n",
    "a14 = slice(2,7,2)\n",
    "print(a13[a14])\n",
    "print(a13[2:7:2])"
   ]
  }
 ],
 "metadata": {
  "kernelspec": {
   "display_name": "Python 3",
   "language": "python",
   "name": "python3"
  },
  "language_info": {
   "codemirror_mode": {
    "name": "ipython",
    "version": 3
   },
   "file_extension": ".py",
   "mimetype": "text/x-python",
   "name": "python",
   "nbconvert_exporter": "python",
   "pygments_lexer": "ipython3",
   "version": "3.7.4"
  }
 },
 "nbformat": 4,
 "nbformat_minor": 2
}
