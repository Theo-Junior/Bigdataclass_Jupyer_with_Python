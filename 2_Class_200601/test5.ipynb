{
 "cells": [
  {
   "cell_type": "code",
   "execution_count": 1,
   "metadata": {},
   "outputs": [],
   "source": [
    "import numpy as np\n",
    "a = np.arange(3)\n"
   ]
  },
  {
   "cell_type": "code",
   "execution_count": 2,
   "metadata": {},
   "outputs": [
    {
     "name": "stdout",
     "output_type": "stream",
     "text": [
      "(3,) 1\n",
      "[0 1 2]\n"
     ]
    }
   ],
   "source": [
    "print(a.shape,a.ndim)\n",
    "print(a)\n"
   ]
  },
  {
   "cell_type": "code",
   "execution_count": 3,
   "metadata": {},
   "outputs": [
    {
     "name": "stdout",
     "output_type": "stream",
     "text": [
      "(1, 3) 2\n"
     ]
    }
   ],
   "source": [
    "a1 = a.reshape(1,3)\n",
    "print(a1.shape,a1.ndim)\n"
   ]
  },
  {
   "cell_type": "code",
   "execution_count": 4,
   "metadata": {},
   "outputs": [
    {
     "name": "stdout",
     "output_type": "stream",
     "text": [
      "[[0]\n",
      " [1]\n",
      " [2]]\n",
      "(3, 1) 2\n"
     ]
    }
   ],
   "source": [
    "a2 = np.swapaxes(a1,0,1)\n",
    "print(a2)\n",
    "print(a2.shape, a2.ndim)\n"
   ]
  },
  {
   "cell_type": "code",
   "execution_count": 5,
   "metadata": {},
   "outputs": [
    {
     "name": "stdout",
     "output_type": "stream",
     "text": [
      "[[[0 1 2]\n",
      "  [3 4 5]]]\n",
      "(1, 2, 3) 3\n"
     ]
    }
   ],
   "source": [
    "a3 = np.arange(6).reshape(1,2,3) #3차원이고, 2행3열인 모양으로 바꾸는 것\n",
    "print(a3)\n",
    "print(a3.shape, a3.ndim)\n"
   ]
  },
  {
   "cell_type": "code",
   "execution_count": 6,
   "metadata": {},
   "outputs": [
    {
     "name": "stdout",
     "output_type": "stream",
     "text": [
      "[[[0 3]\n",
      "  [1 4]\n",
      "  [2 5]]]\n"
     ]
    }
   ],
   "source": [
    "a4 = np.swapaxes(a3, 1, 2)\n",
    "print(a4)"
   ]
  }
 ],
 "metadata": {
  "kernelspec": {
   "display_name": "Python 3",
   "language": "python",
   "name": "python3"
  },
  "language_info": {
   "codemirror_mode": {
    "name": "ipython",
    "version": 3
   },
   "file_extension": ".py",
   "mimetype": "text/x-python",
   "name": "python",
   "nbconvert_exporter": "python",
   "pygments_lexer": "ipython3",
   "version": "3.7.4"
  }
 },
 "nbformat": 4,
 "nbformat_minor": 2
}
