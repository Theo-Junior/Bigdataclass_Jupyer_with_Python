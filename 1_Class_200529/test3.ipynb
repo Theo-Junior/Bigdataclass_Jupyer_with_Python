{
 "cells": [
  {
   "cell_type": "code",
   "execution_count": 1,
   "metadata": {},
   "outputs": [
    {
     "name": "stdout",
     "output_type": "stream",
     "text": [
      "(3,)\n",
      "int64\n",
      "[('age', 'i1')]\n",
      "[(10,) (20,)]\n",
      "[('age', 'i1')]\n"
     ]
    }
   ],
   "source": [
    "import numpy as np\n",
    "a = np.array([1,2,3])\n",
    "print(a.shape)\n",
    "dt = np.dtype('i8')\n",
    "print(dt)\n",
    "dt2 = np.dtype([('age',np.int8)])\n",
    "print(dt2)\n",
    "a2 = np.array([(10,),(20,)],dtype=dt2)\n",
    "print(a2)\n",
    "print(a2.dtype)"
   ]
  },
  {
   "cell_type": "code",
   "execution_count": 2,
   "metadata": {},
   "outputs": [
    {
     "name": "stdout",
     "output_type": "stream",
     "text": [
      "(3,)\n",
      "int64\n",
      "[('age', 'i1')]\n",
      "[(10,) (20,)]\n",
      "[('age', 'i1')]\n",
      "[[1 2]\n",
      " [3 4]\n",
      " [4 5]] (3, 2) 2\n",
      "[[1 2 3]\n",
      " [4 4 5]] (2, 3) 2\n",
      "[[1 2]\n",
      " [3 4]\n",
      " [4 5]] (3, 2)\n",
      "2 4\n",
      "[1 2] 3\n"
     ]
    }
   ],
   "source": [
    "import numpy as np\n",
    "a = np.array([1,2,3])\n",
    "print(a.shape)\n",
    "dt = np.dtype('i8')\n",
    "print(dt)\n",
    "dt2 = np.dtype([('age',np.int8)])\n",
    "print(dt2)\n",
    "a2 = np.array([(10,),(20,)],dtype=dt2)\n",
    "print(a2)\n",
    "print(a2.dtype)\n",
    "# reshape\n",
    "# 2 * 3 -> 3 * 2\n",
    "a3 = np.array([[1,2],[3,4],[4,5]])\n",
    "print(a3, a3.shape, a3.ndim)\n",
    "a4 = a3.reshape(2,3)\n",
    "print(a4, a4.shape, a4.ndim)\n",
    "# Slicing\n",
    "a5 = np.array([[1,2],[3,4],[4,5]])\n",
    "print(a5, a5.shape)\n",
    "print(a5[0,1], a5[2,0])\n",
    "print(a5[0], a[2])"
   ]
  },
  {
   "cell_type": "code",
   "execution_count": null,
   "metadata": {},
   "outputs": [],
   "source": []
  }
 ],
 "metadata": {
  "kernelspec": {
   "display_name": "Python 3",
   "language": "python",
   "name": "python3"
  },
  "language_info": {
   "codemirror_mode": {
    "name": "ipython",
    "version": 3
   },
   "file_extension": ".py",
   "mimetype": "text/x-python",
   "name": "python",
   "nbconvert_exporter": "python",
   "pygments_lexer": "ipython3",
   "version": "3.7.4"
  }
 },
 "nbformat": 4,
 "nbformat_minor": 2
}
