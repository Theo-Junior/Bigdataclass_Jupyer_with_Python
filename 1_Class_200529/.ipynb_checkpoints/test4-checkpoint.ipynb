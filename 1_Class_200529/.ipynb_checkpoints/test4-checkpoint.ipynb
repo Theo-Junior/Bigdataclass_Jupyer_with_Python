{
 "cells": [
  {
   "cell_type": "code",
   "execution_count": 4,
   "metadata": {},
   "outputs": [
    {
     "name": "stdout",
     "output_type": "stream",
     "text": [
      "--> a.ndim. &&  a.shape\n",
      "2 (4, 3)\n",
      "\n",
      "-->  a[0,0] && a[3,2] \n",
      "\n",
      "0 11\n",
      "\n",
      "-->  a[:,:] \n",
      "\n",
      "[[ 0  1  2]\n",
      " [ 3  4  5]\n",
      " [ 6  7  8]\n",
      " [ 9 10 11]]\n",
      "\n",
      "--> a[1,:2]\n",
      "\n",
      "[3 4]\n",
      "\n",
      "--> a[[0,2]]\n",
      "\n",
      "[[0 1 2]\n",
      " [6 7 8]]\n"
     ]
    }
   ],
   "source": [
    "import numpy as np\n",
    "a = np.array([[0,1,2],[3,4,5],[6,7,8],[9,10,11]])\n",
    "\n",
    "print(\"--> a.ndim. &&  a.shape\")\n",
    "print(a.ndim, a.shape)\n",
    "print(\"\\n-->  a[0,0] && a[3,2] \\n\")\n",
    "print(a[0,0],a[3,2])\n",
    "print(\"\\n-->  a[:,:] \\n\")\n",
    "print(a[:,:])\n",
    "print(\"\\n--> a[1,:2]\\n\")\n",
    "print(a[1,:2])\n",
    "print(\"\\n--> a[[0,2]]\\n\")\n",
    "print(a[[0,2]])"
   ]
  },
  {
   "cell_type": "code",
   "execution_count": 5,
   "metadata": {},
   "outputs": [
    {
     "name": "stdout",
     "output_type": "stream",
     "text": [
      "[11]\n"
     ]
    }
   ],
   "source": [
    "print(a[a>10])"
   ]
  },
  {
   "cell_type": "code",
   "execution_count": 6,
   "metadata": {},
   "outputs": [
    {
     "name": "stdout",
     "output_type": "stream",
     "text": [
      "[ 5  6  7  8  9 10 11]\n"
     ]
    }
   ],
   "source": [
    "print(a[a>=5])"
   ]
  },
  {
   "cell_type": "code",
   "execution_count": 9,
   "metadata": {},
   "outputs": [
    {
     "name": "stdout",
     "output_type": "stream",
     "text": [
      "[ 0  1  2  3  4  5  6  7  8  9 10 11 12 13 14 15 16 17 18 19 20 21 22 23]\n",
      "1\n"
     ]
    }
   ],
   "source": [
    "a2 = np.arange(24)\n",
    "print(a2)\n",
    "print(a2.ndim)"
   ]
  },
  {
   "cell_type": "code",
   "execution_count": 10,
   "metadata": {},
   "outputs": [
    {
     "name": "stdout",
     "output_type": "stream",
     "text": [
      "[[[ 0  1  2]\n",
      "  [ 3  4  5]\n",
      "  [ 6  7  8]\n",
      "  [ 9 10 11]]\n",
      "\n",
      " [[12 13 14]\n",
      "  [15 16 17]\n",
      "  [18 19 20]\n",
      "  [21 22 23]]]\n"
     ]
    }
   ],
   "source": [
    "b2 = a2.reshape(2,4,3)\n",
    "print(b2)"
   ]
  }
 ],
 "metadata": {
  "kernelspec": {
   "display_name": "Python 3",
   "language": "python",
   "name": "python3"
  },
  "language_info": {
   "codemirror_mode": {
    "name": "ipython",
    "version": 3
   },
   "file_extension": ".py",
   "mimetype": "text/x-python",
   "name": "python",
   "nbconvert_exporter": "python",
   "pygments_lexer": "ipython3",
   "version": "3.7.4"
  }
 },
 "nbformat": 4,
 "nbformat_minor": 2
}
