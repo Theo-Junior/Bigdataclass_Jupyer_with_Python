{
 "cells": [
  {
   "cell_type": "code",
   "execution_count": 1,
   "metadata": {},
   "outputs": [
    {
     "name": "stdout",
     "output_type": "stream",
     "text": [
      "(3,) 1\n",
      "[0 1 2 3 4]\n",
      "[0, 1, 2, 3, 4]\n"
     ]
    }
   ],
   "source": [
    "# import numpy as np\n",
    "# a = np.array([[0,1,2],[3,4,5],[6,7,8],[9,10,11]])\n",
    "# print(a.ndim, a.shape)\n",
    "# print(a[0,0],a[3,2])\n",
    "# print(a[:,:])\n",
    "# print(a[1,:2])\n",
    "# print(a[[0,2]])\n",
    "# print(a[a>10])\n",
    "# print(a[a>=5])\n",
    "# a2 = np.arange(24)\n",
    "# print(a2)\n",
    "# print(a2.ndim)\n",
    "# b2 = a2.reshape(2,4,3)\n",
    "# print(b2)\n",
    "\n",
    "import numpy as np\n",
    "x = [1,2,3]\n",
    "a = np.asarray(x)\n",
    "print(a.shape, a.ndim)\n",
    "x1 = np.arange(5)\n",
    "print(x1)\n",
    "x2 = list(range(5))\n",
    "print(x2)"
   ]
  },
  {
   "cell_type": "code",
   "execution_count": 2,
   "metadata": {},
   "outputs": [
    {
     "name": "stdout",
     "output_type": "stream",
     "text": [
      "[ 10  40  90 160]\n",
      "[[ 0  1  2]\n",
      " [10 11 12]\n",
      " [20 21 22]\n",
      " [30 31 32]]\n"
     ]
    }
   ],
   "source": [
    "a2 = np.array([1,2,3,4])\n",
    "b2 = np.array([10,20,30,40])\n",
    "c2 = a2 * b2\n",
    "\n",
    "print(c2)\n",
    "\n",
    "a3 = np.array([[0,0,0], [10,10,10], [20,20,20], [30,30,30]])\n",
    "a4 = np.array([0,1,2])\n",
    "a5 = a3 + a4\n",
    "print(a5)"
   ]
  }
 ],
 "metadata": {
  "kernelspec": {
   "display_name": "Python 3",
   "language": "python",
   "name": "python3"
  },
  "language_info": {
   "codemirror_mode": {
    "name": "ipython",
    "version": 3
   },
   "file_extension": ".py",
   "mimetype": "text/x-python",
   "name": "python",
   "nbconvert_exporter": "python",
   "pygments_lexer": "ipython3",
   "version": "3.7.4"
  }
 },
 "nbformat": 4,
 "nbformat_minor": 2
}
