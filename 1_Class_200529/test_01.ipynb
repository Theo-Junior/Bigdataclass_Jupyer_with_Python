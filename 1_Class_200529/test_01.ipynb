{
 "cells": [
  {
   "cell_type": "code",
   "execution_count": 1,
   "metadata": {},
   "outputs": [
    {
     "output_type": "stream",
     "name": "stdout",
     "text": "(3,) (2, 2) (1, 6)\nint64 int64 int64\n1 2 2 1\n"
    }
   ],
   "source": [
    "import numpy as np\n",
    "a = np.array([1,2,3])\n",
    "# a\n",
    "# type(a)\n",
    "a1 = np.array([[1,2],[3,4]])\n",
    "a1\n",
    "#type(a1)\n",
    "a2 = np.array([1,2,3,4,5,6], ndmin =2) #2차원으로 만드는 것\n",
    "a2\n",
    "a3 = np.array([1,2,3], dtype = complex)\n",
    "a3\n",
    "print(a.shape, a1.shape, a2.shape)\n",
    "print(a.dtype, a1.dtype, a2.dtype)\n",
    "print(a.ndim, a1.ndim, a2.ndim, a3.ndim)"
   ]
  }
 ],
 "metadata": {
  "language_info": {
   "codemirror_mode": {
    "name": "ipython",
    "version": 3
   },
   "file_extension": ".py",
   "mimetype": "text/x-python",
   "name": "python",
   "nbconvert_exporter": "python",
   "pygments_lexer": "ipython3",
   "version": "3.7.4-final"
  },
  "orig_nbformat": 2,
  "kernelspec": {
   "name": "python3",
   "display_name": "Python 3"
  }
 },
 "nbformat": 4,
 "nbformat_minor": 2
}