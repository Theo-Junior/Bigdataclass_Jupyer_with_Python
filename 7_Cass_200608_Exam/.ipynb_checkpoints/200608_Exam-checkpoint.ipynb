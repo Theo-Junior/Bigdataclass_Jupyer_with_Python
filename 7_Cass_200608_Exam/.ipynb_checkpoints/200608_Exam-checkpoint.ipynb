{
 "cells": [
  {
   "cell_type": "code",
   "execution_count": 1,
   "metadata": {},
   "outputs": [],
   "source": [
    "# 다음에 제공되는 파일을 기준으로 데이터 분석 및 그래프를 출력하시오.\n",
    "# 1) 모범음식점현황(건수)을 그래프로 출력하시오.(업태기준)\n",
    "# 2) “거창군”과 “함양군”에서 하위 4곳의 음식점을 찾고 4곳의 음식점 기준으로 그래프를 \n",
    "#    출력하시오.(주메뉴기준)\n",
    "# 3) “낙지”를 포함하는 주메뉴의 상위 3건을 찾고 그에 해당하는 그래프를 출력하시오.(주메뉴기준)"
   ]
  },
  {
   "cell_type": "code",
   "execution_count": 7,
   "metadata": {},
   "outputs": [
    {
     "data": {
      "text/html": [
       "<div>\n",
       "<style scoped>\n",
       "    .dataframe tbody tr th:only-of-type {\n",
       "        vertical-align: middle;\n",
       "    }\n",
       "\n",
       "    .dataframe tbody tr th {\n",
       "        vertical-align: top;\n",
       "    }\n",
       "\n",
       "    .dataframe thead th {\n",
       "        text-align: right;\n",
       "    }\n",
       "</style>\n",
       "<table border=\"1\" class=\"dataframe\">\n",
       "  <thead>\n",
       "    <tr style=\"text-align: right;\">\n",
       "      <th></th>\n",
       "      <th>시도</th>\n",
       "      <th>시군구</th>\n",
       "      <th>업태</th>\n",
       "      <th>주메뉴</th>\n",
       "      <th>업소명</th>\n",
       "      <th>주소</th>\n",
       "      <th>전화번호</th>\n",
       "    </tr>\n",
       "  </thead>\n",
       "  <tbody>\n",
       "    <tr>\n",
       "      <td>0</td>\n",
       "      <td>경남</td>\n",
       "      <td>창원시</td>\n",
       "      <td>한식</td>\n",
       "      <td>낙지전골, 낙지복음</td>\n",
       "      <td>낙지천하</td>\n",
       "      <td>의창구 북면 신촌 본포로32</td>\n",
       "      <td>055-255-0885</td>\n",
       "    </tr>\n",
       "    <tr>\n",
       "      <td>1</td>\n",
       "      <td>경남</td>\n",
       "      <td>창원시</td>\n",
       "      <td>한식</td>\n",
       "      <td>감자탕</td>\n",
       "      <td>통뼈감자탕북면감계점</td>\n",
       "      <td>의창구 북면 감계로110번길58</td>\n",
       "      <td>055-231-0188</td>\n",
       "    </tr>\n",
       "    <tr>\n",
       "      <td>2</td>\n",
       "      <td>경남</td>\n",
       "      <td>창원시</td>\n",
       "      <td>한식</td>\n",
       "      <td>추어탕,다슬기탕</td>\n",
       "      <td>가마솥추어탕</td>\n",
       "      <td>의창구 북면 천주로 1019-22 (1층)</td>\n",
       "      <td>055-298-3555</td>\n",
       "    </tr>\n",
       "    <tr>\n",
       "      <td>3</td>\n",
       "      <td>경남</td>\n",
       "      <td>창원시</td>\n",
       "      <td>한식</td>\n",
       "      <td>전골류</td>\n",
       "      <td>가야골뚝배기</td>\n",
       "      <td>의창구 의창대로54번길 5-13 (팔용동,코코빌딩1층101호)</td>\n",
       "      <td>055-255-3777</td>\n",
       "    </tr>\n",
       "    <tr>\n",
       "      <td>4</td>\n",
       "      <td>경남</td>\n",
       "      <td>창원시</td>\n",
       "      <td>한식</td>\n",
       "      <td>어탕국수,메기매운탕</td>\n",
       "      <td>경호강메기탕</td>\n",
       "      <td>의창구 창이대로85번길 5 (명서동)</td>\n",
       "      <td>055-283-7669</td>\n",
       "    </tr>\n",
       "  </tbody>\n",
       "</table>\n",
       "</div>"
      ],
      "text/plain": [
       "   시도  시군구  업태         주메뉴         업소명                                  주소  \\\n",
       "0  경남  창원시  한식  낙지전골, 낙지복음        낙지천하                     의창구 북면 신촌 본포로32   \n",
       "1  경남  창원시  한식         감자탕  통뼈감자탕북면감계점                   의창구 북면 감계로110번길58   \n",
       "2  경남  창원시  한식    추어탕,다슬기탕      가마솥추어탕             의창구 북면 천주로 1019-22 (1층)   \n",
       "3  경남  창원시  한식         전골류      가야골뚝배기  의창구 의창대로54번길 5-13 (팔용동,코코빌딩1층101호)   \n",
       "4  경남  창원시  한식  어탕국수,메기매운탕      경호강메기탕                의창구 창이대로85번길 5 (명서동)   \n",
       "\n",
       "          전화번호   \n",
       "0  055-255-0885  \n",
       "1  055-231-0188  \n",
       "2  055-298-3555  \n",
       "3  055-255-3777  \n",
       "4  055-283-7669  "
      ]
     },
     "execution_count": 7,
     "metadata": {},
     "output_type": "execute_result"
    }
   ],
   "source": [
    "import numpy as np\n",
    "import pandas as pd\n",
    "import matplotlib.pyplot as plt\n",
    "import collections\n",
    "\n",
    "# 한글 폰트 추가\n",
    "import matplotlib\n",
    "data = pd.read_csv(\"./21.모범음식점현황(사전정보공표181231).csv\", encoding='cp949')\n",
    "data.head()"
   ]
  },
  {
   "cell_type": "code",
   "execution_count": 8,
   "metadata": {},
   "outputs": [
    {
     "data": {
      "image/png": "[encoded data removed]",
      "text/plain": [
       "<Figure size 432x288 with 1 Axes>"
      ]
     },
     "metadata": {
      "needs_background": "light"
     },
     "output_type": "display_data"
    }
   ],
   "source": [
    "## 1번\n",
    "## 모범음식점현황(건수)을 그래프로 출력하시오.(업태기준)\n",
    "data_bestStore = data.groupby(by='업태').size().reset_index(name=\"건수\")\n",
    "plt.plot(data_bestStore['업태'], data_bestStore['건수'])\n",
    "plt.show()"
   ]
  },
  {
   "cell_type": "code",
   "execution_count": 10,
   "metadata": {},
   "outputs": [
    {
     "data": {
      "image/png": "[encoded data removed]",
      "text/plain": [
       "<Figure size 432x288 with 1 Axes>"
      ]
     },
     "metadata": {
      "needs_background": "light"
     },
     "output_type": "display_data"
    }
   ],
   "source": [
    "## 2번\n",
    "## “거창군”과 “함양군”에서 하위 4곳의 음식점을 찾고 4곳의 음식점 기준으로 그래프를 \n",
    "## 출력하시오.(주메뉴기준)\n",
    "\n",
    "filter = (data['시군구']== '거창군') | (data['시군구']== '함양') \n",
    "data_filter = data[filter]\n",
    "\n",
    "data_lowestStore = data_filter.groupby(by='주메뉴').size().reset_index(name='건수')\n",
    "data_lowestStore_sorted = data_lowestStore.sort_values(by='건수', ascending=False).tail(4)\n",
    "plt.plot(data_lowestStore_sorted['주메뉴'], data_lowestStore_sorted['건수'])\n",
    "plt.show()"
   ]
  },
  {
   "cell_type": "code",
   "execution_count": 11,
   "metadata": {},
   "outputs": [
    {
     "data": {
      "image/png": "[encoded data removed]",
      "text/plain": [
       "<Figure size 432x288 with 1 Axes>"
      ]
     },
     "metadata": {
      "needs_background": "light"
     },
     "output_type": "display_data"
    }
   ],
   "source": [
    "## 3번\n",
    "## “낙지”를 포함하는 주메뉴의 상위 3건을 찾고 그에 해당하는 그래프를 출력하시오.(주메뉴기준)\n",
    "\n",
    "filter_nakji = data['주메뉴'].str.contains('낙지')\n",
    "data_nakji = data[filter_nakji]\n",
    "\n",
    "data_filter_nakji = data_nakji.groupby(by='주메뉴').size().reset_index(name='건수')\n",
    "datea_nakji_sorted = data_filter_nakji.sort_values(by='건수', ascending= False).head(3)\n",
    "plt.plot(datea_nakji_sorted['주메뉴'], datea_nakji_sorted['건수'])\n",
    "plt.show()"
   ]
  }
 ],
 "metadata": {
  "kernelspec": {
   "display_name": "Python 3",
   "language": "python",
   "name": "python3"
  },
  "language_info": {
   "codemirror_mode": {
    "name": "ipython",
    "version": 3
   },
   "file_extension": ".py",
   "mimetype": "text/x-python",
   "name": "python",
   "nbconvert_exporter": "python",
   "pygments_lexer": "ipython3",
   "version": "3.7.4"
  }
 },
 "nbformat": 4,
 "nbformat_minor": 2
}
