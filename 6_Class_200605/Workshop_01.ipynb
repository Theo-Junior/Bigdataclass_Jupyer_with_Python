{
 "cells": [
  {
   "cell_type": "code",
   "execution_count": 2,
   "metadata": {},
   "outputs": [],
   "source": [
    "import numpy as np\n",
    "import pandas as pd\n",
    "# 한글문제 해결처리 \n",
    "################################################################\n",
    "import matplotlib.pyplot as plt\n",
    "from matplotlib import font_manager, rc\n",
    "import platform\n",
    "\n",
    "plt.rcParams['axes.unicode_minus'] = False\n",
    "if platform.system() == 'Darwin':\n",
    "    rc('font', family='AppleGothic')\n",
    "elif platform.system() == 'Windows':\n",
    "    path = \"c:/Windows/Fonts/malgun.ttf\"\n",
    "    font_name = font_manager.FontProperties(fname=path).get_name()\n",
    "    rc('font', family=font_name)\n",
    "else:\n",
    "    print('Unknown system... sorry~~~~')\n",
    "################################################################\n",
    "# 다음의 결과를 출력하시오."
   ]
  },
  {
   "cell_type": "code",
   "execution_count": 5,
   "metadata": {},
   "outputs": [
    {
     "name": "stdout",
     "output_type": "stream",
     "text": [
      "0       여\n",
      "1       여\n",
      "2       남\n",
      "3       여\n",
      "4       남\n",
      "       ..\n",
      "1864    여\n",
      "1865    남\n",
      "1866    여\n",
      "1867    남\n",
      "1868    여\n",
      "Name: 성별, Length: 1869, dtype: object\n"
     ]
    },
    {
     "data": {
      "image/png": "[encoded data removed]",
      "text/plain": [
       "<Figure size 432x288 with 1 Axes>"
      ]
     },
     "metadata": {
      "needs_background": "light"
     },
     "output_type": "display_data"
    }
   ],
   "source": [
    "data = pd.read_excel(\"./Data/의심환자검역정보(2019).xlsx\")\n",
    "gender = data['성별']\n",
    "print(gender)\n",
    "plt.title(\"남여별 검사건수\")\n",
    "plt.hist(gender, bins=2, rwidth=0.9)\n",
    "#plt.ylabel(\"검사건수\")\n",
    "plt.show()"
   ]
  },
  {
   "cell_type": "code",
   "execution_count": 7,
   "metadata": {},
   "outputs": [
    {
     "data": {
      "image/png": "[encoded data removed]",
      "text/plain": [
       "<Figure size 432x288 with 1 Axes>"
      ]
     },
     "metadata": {
      "needs_background": "light"
     },
     "output_type": "display_data"
    }
   ],
   "source": [
    "#교수님이 한거...\n",
    "df = pd.read_excel(\"./Data/의심환자검역정보(2019).xlsx\")\n",
    "df2 = df.loc[:,['성별','검사결과']]\n",
    "df3 = df2.groupby(by=\"성별\").count().reset_index()\n",
    "df3.columns = ['성별','검사건수']\n",
    "plt.bar(df3['성별'],df3['검사건수'])\n",
    "plt.show()"
   ]
  }
 ],
 "metadata": {
  "kernelspec": {
   "display_name": "Python 3",
   "language": "python",
   "name": "python3"
  },
  "language_info": {
   "codemirror_mode": {
    "name": "ipython",
    "version": 3
   },
   "file_extension": ".py",
   "mimetype": "text/x-python",
   "name": "python",
   "nbconvert_exporter": "python",
   "pygments_lexer": "ipython3",
   "version": "3.7.4"
  }
 },
 "nbformat": 4,
 "nbformat_minor": 2
}
