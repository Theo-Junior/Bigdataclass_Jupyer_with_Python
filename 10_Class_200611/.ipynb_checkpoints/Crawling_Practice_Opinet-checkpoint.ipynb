{
 "cells": [
  {
   "cell_type": "code",
   "execution_count": 1,
   "metadata": {
    "scrolled": true
   },
   "outputs": [
    {
     "data": {
      "text/plain": [
       "['서울특별시',\n",
       " '부산광역시',\n",
       " '대구광역시',\n",
       " '인천광역시',\n",
       " '광주광역시',\n",
       " '대전광역시',\n",
       " '울산광역시',\n",
       " '세종특별자치시',\n",
       " '경기도',\n",
       " '강원도',\n",
       " '충청북도',\n",
       " '충청남도',\n",
       " '전라북도',\n",
       " '전라남도',\n",
       " '경상북도',\n",
       " '경상남도',\n",
       " '제주특별자치도']"
      ]
     },
     "execution_count": 1,
     "metadata": {},
     "output_type": "execute_result"
    }
   ],
   "source": [
    "from selenium import webdriver\n",
    "from selenium.webdriver.support.ui import WebDriverWait\n",
    "\n",
    "driver = webdriver.Chrome(\"../DataScience-master/driver/chromedriver\")\n",
    "driver.get(\"http://www.opinet.co.kr\")\n",
    "driver.get(\"http://www.opinet.co.kr/searRgSelect.do\")\n",
    "#driver.find_element_by_xpath('//*[@\"searRgSelect\"]').click()\n",
    "\n",
    "sido_list_raw = driver.find_element_by_xpath('//*[@id=\"SIDO_NM0\"]')\n",
    "sido_list = sido_list_raw.find_elements_by_tag_name('option')\n",
    "sido_names = [option.get_attribute('value') for option in sido_list]\n",
    "sido_names.remove('')\n",
    "sido_names"
   ]
  },
  {
   "cell_type": "code",
   "execution_count": 2,
   "metadata": {},
   "outputs": [],
   "source": [
    "driver.find_element_by_id('SIDO_NM0').send_keys(sido_names[0])"
   ]
  },
  {
   "cell_type": "code",
   "execution_count": 3,
   "metadata": {},
   "outputs": [
    {
     "data": {
      "text/plain": [
       "[<selenium.webdriver.remote.webelement.WebElement (session=\"8c2fa156e84dd69606a796b31cb4e767\", element=\"0.28804691824622486-21\")>,\n",
       " <selenium.webdriver.remote.webelement.WebElement (session=\"8c2fa156e84dd69606a796b31cb4e767\", element=\"0.28804691824622486-22\")>,\n",
       " <selenium.webdriver.remote.webelement.WebElement (session=\"8c2fa156e84dd69606a796b31cb4e767\", element=\"0.28804691824622486-23\")>,\n",
       " <selenium.webdriver.remote.webelement.WebElement (session=\"8c2fa156e84dd69606a796b31cb4e767\", element=\"0.28804691824622486-24\")>,\n",
       " <selenium.webdriver.remote.webelement.WebElement (session=\"8c2fa156e84dd69606a796b31cb4e767\", element=\"0.28804691824622486-25\")>,\n",
       " <selenium.webdriver.remote.webelement.WebElement (session=\"8c2fa156e84dd69606a796b31cb4e767\", element=\"0.28804691824622486-26\")>,\n",
       " <selenium.webdriver.remote.webelement.WebElement (session=\"8c2fa156e84dd69606a796b31cb4e767\", element=\"0.28804691824622486-27\")>,\n",
       " <selenium.webdriver.remote.webelement.WebElement (session=\"8c2fa156e84dd69606a796b31cb4e767\", element=\"0.28804691824622486-28\")>,\n",
       " <selenium.webdriver.remote.webelement.WebElement (session=\"8c2fa156e84dd69606a796b31cb4e767\", element=\"0.28804691824622486-29\")>,\n",
       " <selenium.webdriver.remote.webelement.WebElement (session=\"8c2fa156e84dd69606a796b31cb4e767\", element=\"0.28804691824622486-30\")>,\n",
       " <selenium.webdriver.remote.webelement.WebElement (session=\"8c2fa156e84dd69606a796b31cb4e767\", element=\"0.28804691824622486-31\")>,\n",
       " <selenium.webdriver.remote.webelement.WebElement (session=\"8c2fa156e84dd69606a796b31cb4e767\", element=\"0.28804691824622486-32\")>,\n",
       " <selenium.webdriver.remote.webelement.WebElement (session=\"8c2fa156e84dd69606a796b31cb4e767\", element=\"0.28804691824622486-33\")>,\n",
       " <selenium.webdriver.remote.webelement.WebElement (session=\"8c2fa156e84dd69606a796b31cb4e767\", element=\"0.28804691824622486-34\")>,\n",
       " <selenium.webdriver.remote.webelement.WebElement (session=\"8c2fa156e84dd69606a796b31cb4e767\", element=\"0.28804691824622486-35\")>,\n",
       " <selenium.webdriver.remote.webelement.WebElement (session=\"8c2fa156e84dd69606a796b31cb4e767\", element=\"0.28804691824622486-36\")>,\n",
       " <selenium.webdriver.remote.webelement.WebElement (session=\"8c2fa156e84dd69606a796b31cb4e767\", element=\"0.28804691824622486-37\")>,\n",
       " <selenium.webdriver.remote.webelement.WebElement (session=\"8c2fa156e84dd69606a796b31cb4e767\", element=\"0.28804691824622486-38\")>,\n",
       " <selenium.webdriver.remote.webelement.WebElement (session=\"8c2fa156e84dd69606a796b31cb4e767\", element=\"0.28804691824622486-39\")>,\n",
       " <selenium.webdriver.remote.webelement.WebElement (session=\"8c2fa156e84dd69606a796b31cb4e767\", element=\"0.28804691824622486-40\")>,\n",
       " <selenium.webdriver.remote.webelement.WebElement (session=\"8c2fa156e84dd69606a796b31cb4e767\", element=\"0.28804691824622486-41\")>,\n",
       " <selenium.webdriver.remote.webelement.WebElement (session=\"8c2fa156e84dd69606a796b31cb4e767\", element=\"0.28804691824622486-42\")>,\n",
       " <selenium.webdriver.remote.webelement.WebElement (session=\"8c2fa156e84dd69606a796b31cb4e767\", element=\"0.28804691824622486-43\")>,\n",
       " <selenium.webdriver.remote.webelement.WebElement (session=\"8c2fa156e84dd69606a796b31cb4e767\", element=\"0.28804691824622486-44\")>,\n",
       " <selenium.webdriver.remote.webelement.WebElement (session=\"8c2fa156e84dd69606a796b31cb4e767\", element=\"0.28804691824622486-45\")>,\n",
       " <selenium.webdriver.remote.webelement.WebElement (session=\"8c2fa156e84dd69606a796b31cb4e767\", element=\"0.28804691824622486-46\")>]"
      ]
     },
     "execution_count": 3,
     "metadata": {},
     "output_type": "execute_result"
    }
   ],
   "source": [
    "gu_list_raw = driver.find_element_by_xpath('//*[@id=\"SIGUNGU_NM0\"]')\n",
    "gu_list_raw\n",
    "gu_list = gu_list_raw.find_elements_by_tag_name('option')\n",
    "gu_list"
   ]
  },
  {
   "cell_type": "code",
   "execution_count": 4,
   "metadata": {},
   "outputs": [
    {
     "data": {
      "text/plain": [
       "['',\n",
       " '강남구',\n",
       " '강동구',\n",
       " '강북구',\n",
       " '강서구',\n",
       " '관악구',\n",
       " '광진구',\n",
       " '구로구',\n",
       " '금천구',\n",
       " '노원구',\n",
       " '도봉구',\n",
       " '동대문구',\n",
       " '동작구',\n",
       " '마포구',\n",
       " '서대문구',\n",
       " '서초구',\n",
       " '성동구',\n",
       " '성북구',\n",
       " '송파구',\n",
       " '양천구',\n",
       " '영등포구',\n",
       " '용산구',\n",
       " '은평구',\n",
       " '종로구',\n",
       " '중구',\n",
       " '중랑구']"
      ]
     },
     "execution_count": 4,
     "metadata": {},
     "output_type": "execute_result"
    }
   ],
   "source": [
    "gu_names = [option.get_attribute('value') for option in gu_list]\n",
    "gu_names"
   ]
  },
  {
   "cell_type": "code",
   "execution_count": 5,
   "metadata": {},
   "outputs": [
    {
     "data": {
      "text/plain": [
       "['강남구',\n",
       " '강동구',\n",
       " '강북구',\n",
       " '강서구',\n",
       " '관악구',\n",
       " '광진구',\n",
       " '구로구',\n",
       " '금천구',\n",
       " '노원구',\n",
       " '도봉구',\n",
       " '동대문구',\n",
       " '동작구',\n",
       " '마포구',\n",
       " '서대문구',\n",
       " '서초구',\n",
       " '성동구',\n",
       " '성북구',\n",
       " '송파구',\n",
       " '양천구',\n",
       " '영등포구',\n",
       " '용산구',\n",
       " '은평구',\n",
       " '종로구',\n",
       " '중구',\n",
       " '중랑구']"
      ]
     },
     "execution_count": 5,
     "metadata": {},
     "output_type": "execute_result"
    }
   ],
   "source": [
    "gu_names.remove('')\n",
    "gu_names"
   ]
  },
  {
   "cell_type": "code",
   "execution_count": 6,
   "metadata": {},
   "outputs": [
    {
     "data": {
      "text/plain": [
       "'강남구'"
      ]
     },
     "execution_count": 6,
     "metadata": {},
     "output_type": "execute_result"
    }
   ],
   "source": [
    "gu_names[0]"
   ]
  },
  {
   "cell_type": "code",
   "execution_count": 7,
   "metadata": {},
   "outputs": [],
   "source": [
    "driver.find_element_by_id('SIGUNGU_NM0').send_keys(gu_names[0])"
   ]
  },
  {
   "cell_type": "code",
   "execution_count": 8,
   "metadata": {},
   "outputs": [],
   "source": [
    "driver.find_element_by_xpath('//*[@id=\"glopopd_excel\"]').click()"
   ]
  },
  {
   "cell_type": "code",
   "execution_count": 9,
   "metadata": {},
   "outputs": [
    {
     "data": {
      "application/vnd.jupyter.widget-view+json": {
       "model_id": "3ec134f19af14c84862115f580655717",
       "version_major": 2,
       "version_minor": 0
      },
      "text/plain": [
       "HBox(children=(IntProgress(value=0, max=25), HTML(value='')))"
      ]
     },
     "metadata": {},
     "output_type": "display_data"
    },
    {
     "name": "stdout",
     "output_type": "stream",
     "text": [
      "\n"
     ]
    }
   ],
   "source": [
    "import time\n",
    "from tqdm import tqdm_notebook\n",
    "for gu in tqdm_notebook(gu_names):\n",
    "    driver.find_element_by_id('SIGUNGU_NM0').send_keys(gu)\n",
    "    time.sleep(2)\n",
    "    \n",
    "    driver.find_element_by_xpath('//*[@id=\"searRgSelect\"]').click()\n",
    "    time.sleep(1)\n",
    "    \n",
    "    driver.find_element_by_xpath('//*[@id=\"glopopd_excel\"]').click()\n",
    "    time.sleep(1)"
   ]
  }
 ],
 "metadata": {
  "kernelspec": {
   "display_name": "Python 3",
   "language": "python",
   "name": "python3"
  },
  "language_info": {
   "codemirror_mode": {
    "name": "ipython",
    "version": 3
   },
   "file_extension": ".py",
   "mimetype": "text/x-python",
   "name": "python",
   "nbconvert_exporter": "python",
   "pygments_lexer": "ipython3",
   "version": "3.7.4"
  }
 },
 "nbformat": 4,
 "nbformat_minor": 2
}
